{
  "nbformat": 4,
  "nbformat_minor": 0,
  "metadata": {
    "colab": {
      "name": "Proj2FinalReport.ipynb",
      "provenance": [],
      "collapsed_sections": [],
      "toc_visible": true,
      "include_colab_link": true
    },
    "kernelspec": {
      "name": "python3",
      "display_name": "Python 3"
    },
    "language_info": {
      "name": "python"
    }
  },
  "cells": [
    {
      "cell_type": "markdown",
      "metadata": {
        "id": "view-in-github",
        "colab_type": "text"
      },
      "source": [
        "<a href=\"https://colab.research.google.com/github/mulcahrj/DATA6545_Final/blob/main/Proj2FinalReport.ipynb\" target=\"_parent\"><img src=\"https://colab.research.google.com/assets/colab-badge.svg\" alt=\"Open In Colab\"/></a>"
      ]
    },
    {
      "cell_type": "markdown",
      "metadata": {
        "id": "n6TiGKk5x08y"
      },
      "source": [
        "# **Competition 2: Telemarketing**\n",
        "---\n",
        "# *By : Enadi Pasholli, Ryan Mulcahey, and Jonathan Luo*"
      ]
    },
    {
      "cell_type": "markdown",
      "metadata": {
        "id": "JHVlIpEOx9_i"
      },
      "source": [
        "# **Overview**\n",
        "---\n",
        "**Can we predict if a customer will open a new bank account from a telemarketing campaign?**\n",
        "\n",
        "This project is designed to be able to predict wether or not a customer would or would not subscribe a new bank account from a telemarketing campaign. "
      ]
    },
    {
      "cell_type": "markdown",
      "source": [
        "## Data Summary"
      ],
      "metadata": {
        "id": "gsLnbzY8B_dG"
      }
    },
    {
      "cell_type": "markdown",
      "source": [
        "To create our model we used a dataset from a portoguse bank spanning from 2008 to 2013. The dataset has 27 columns and 45,307 rows, or customers. Listed below in the data dictionary are all the features and descriptions for each variable in the dataset.\n",
        "\n",
        "[The original dataset can be found here](https://raw.githubusercontent.com/mulcahrj/DATA6545_Final/main/comp2_data.csv)"
      ],
      "metadata": {
        "id": "lJWCZqWCCfhA"
      }
    },
    {
      "cell_type": "markdown",
      "source": [
        "\n",
        "\n",
        "| Field Name  |  Description | Type of Data | Example Values | \n",
        "|----------|-------------|------------|------------|\n",
        "|**Bank Client Data**|\n",
        "| Age | Person Age | Continuous | 17 - 98| \n",
        "| Job |  Type of Job | Catergorical |services,admin, etc| \n",
        "| Martial | Marital Status | Categorical|married, single, etc| \n",
        "| Education | Education Status | Categorical (Ordinal?) |basic.4y, high.school,university.degree, etc.| \n",
        "|Default| Has Credit in Default? |Categorical |yes,no,unknown,Nan | \n",
        "|Housing | Has Housing Loan? |Categorical |yes,no,unknown,Nan | \n",
        "|Loan|  Has Personal Loan? |Categorical |yes,no,unknown,Nan| \n",
        "|**Related with the Last Contact of the Current Campaign**|| \n",
        "|Contact|  Contact Communication Type |Categorical |telephone,nan,cellular| \n",
        "|Month| Last Contact Month of Year |Categorical|Jan - Dec| \n",
        "|day_of_week| Last Contact Day of the Week |Categorical|mon-fri,Nan| \n",
        "|Duration |  Last Contact Duration, in Seconds - **Data Dropped** |Continuous|0-4918| \n",
        "|Campaign| Number of Contacts Performed During this Campaign and for this Client |(Continuous?, includes last contact)|1-56| \n",
        "|pdays| Number of Days that Passed by After the Client was Last Contacted from a Previous Campaign; (999 means client was not previously contacted) |Continuous|0,1,2-999| \n",
        "|Previous| number of contacts performed before this campaign and for this client | Continuous|0-7| \n",
        "|Poutcome| Outcome of the Previous Marketing Campaign | Categorical |nonexistent nan failure success|\n",
        "|**Socioeconomical Features (Portugal/Europe)**|\n",
        "|emp.var.rate| Employment Variation Rate - Quarterly Indicator|Continuous|-3.4 - 1.4| \n",
        "|cons.price.idx| Consumer Price Index - Monthly Indicator | Continuous|92.2-94.77| \n",
        "|cons.conf.idx | Consumer Confidence Index - Monthly Indicator|Continuous|-50.8 - -26.9| \n",
        "|euribor3m| Euribor 3 Month Rolling Average - Daily Indicator |Continuous|0.63 - 5.04| \n",
        "|nr.employed|Number of Employees - Quarterly Indicator |Continuous|4963.6 - 5228.1| \n",
        "|**Additional Features**|\n",
        "|total_assets|Total Assets Self Reported by the Customer in 1,000 Euros|Continuous| 10.85 - 360.4| \n",
        "|customer_ratings|Customer Rating of the Current Campaign |Categorical|1 - 5, Nan| \n",
        "|customer_language| Language Used by the Customer in the Current Campaign |Categorical|Portuguese, English, Spanish, Other, Nan| \n",
        "|rep_avg_rating| average rating of the representative prior to the current campaign |Continuous|2 - 5| \n",
        "|customer_length| Number of Months Customer Doing Business ith the Bank - Internal Records |Continuous|0 - 72| \n",
        "|other_banks| If the Customer is Doing Business with Other Banks - self-reported |Categorical|yes, no, unknown, Nan| \n",
        "|**Target**|\n",
        "|y| Has the Client Subscribed a Term Deposit? |Binary|1,0| "
      ],
      "metadata": {
        "id": "PRoFXw-Yywhw"
      }
    },
    {
      "cell_type": "markdown",
      "source": [
        "## Process"
      ],
      "metadata": {
        "id": "roCgAtxaCOjS"
      }
    },
    {
      "cell_type": "markdown",
      "source": [
        "To create this model there are various chapters to the project. The first major component of the project is to do a data audit where we inspect and clean the dataset to make it useful. Once the data is in a useful state, we will choose which features produce the best model performance. After the features are selected then we will apply those features to the 6 models we have chosen to use, which are XGBoost, Random Forest, SVM, Logical Regression, Decision Tree, and Niave Bayes. Once we have our base results we will do some hypertuning to produce the best reults possible and then benchmark those results against the Niave Bayes model. "
      ],
      "metadata": {
        "id": "Yn26m0md6VKk"
      }
    },
    {
      "cell_type": "markdown",
      "source": [
        "Once we processed the dataset using the models above, we landed on Random Forest as the strongest model for predicting if a bank customer would ultimately open a term deposit account after targeting with the campaign. While Random Forest exhibited the highest bias (1-F1 Bias: 0.929, 1-AUC-ROC Bias: 0.976), it also proved the lowest cumulative variance, specifically for AUC-ROC variance of 0.0016, coming in at half the next lowest model, Decision Tree, with 0.0032. 1-F1 Variance of 0.0036 was similar to Decision Tree of 0.0035. \n",
        "\n",
        "When looking at the important features considered with Random Forest, we found that the primary drivers were customer total assets, how long the customer had been with the bank, Euribor 3-month rolling average, and average rating of the representative prior to current marketing campaign.\n",
        "\n",
        "These results will help the bank more effectively design a marketing campaign for term deposit accounts to ensure the most efficient use of resources, and potentially convert those in the target profile to a higher degree."
      ],
      "metadata": {
        "id": "Ii8Hy9E26VHz"
      }
    },
    {
      "cell_type": "markdown",
      "metadata": {
        "id": "NoN3AJXkyZI_"
      },
      "source": [
        "# **Data Audit**\n",
        "---"
      ]
    },
    {
      "cell_type": "markdown",
      "source": [
        "The first thing that we did to understand our data is data quality checks followed by EDA. Next we split our data into catagorical and continous datasets and further split those data sets into training and testing datasets. Once those datasets were created, we imputed the categorical dataframes by mode and the continous dataframes by median. After the imputation we engineered a few new features, binned categorical columns to a cap of 5 options per bin, and One-Hot-Encoded thhe categorical dataframes so that each option has its own column indicated by 1 and 0. For the continous dataframes, we dealt with outliers by containing all the data within the boundaries of the IQR of each of the features, standardized the distribution with power tranfromer, and lastly scaled the data using MinMax Scaler so all feature values lied between 0 and 1. Finally, after all the data cleaning, we merged the testing and training data back together in order to apply our models. "
      ],
      "metadata": {
        "id": "z8JrpNn0ziGi"
      }
    },
    {
      "cell_type": "markdown",
      "source": [
        "[Data Audit Report](https://colab.research.google.com/github/mulcahrj/DATA6545_Final/blob/main/Final_Project_Data_Audit.ipynb)"
      ],
      "metadata": {
        "id": "AlF5VlWGBk86"
      }
    },
    {
      "cell_type": "markdown",
      "metadata": {
        "id": "Dd3v9SPXdE_P"
      },
      "source": [
        "# **Feature Selection**\n",
        "---"
      ]
    },
    {
      "cell_type": "markdown",
      "metadata": {
        "id": "nVsJfCZMz7Aj"
      },
      "source": [
        "The feature selection model we used included a few different methods of determining the most important features from our data set for our models. The methods that we used include in our model included Top-K Classifier, Correlation Classifier, RFE Classifer, Ridge Coefficent Classifier, Extra Tree Classifier, and Random Forest Classifier. We let the function decide the top 10 most important features for our models. "
      ]
    },
    {
      "cell_type": "markdown",
      "source": [
        "customer_ratings,housing_yes,cons.price.idx,y"
      ],
      "metadata": {
        "id": "bHHe8Z7JOE7Q"
      }
    },
    {
      "cell_type": "markdown",
      "source": [
        "[Feature Selection Report](https://colab.research.google.com/github/mulcahrj/DATA6545_Final/blob/main/Final_Project_Feature_Selection.ipynb)"
      ],
      "metadata": {
        "id": "xh8a8YjvNS3V"
      }
    },
    {
      "cell_type": "markdown",
      "metadata": {
        "id": "jWVSxmKQdLqb"
      },
      "source": [
        "| Features | Description | Data Type |\n",
        "| ------------ | ---------- | ---------- |\n",
        "|emp.var.rate| Employment Variation Rate - Quarterly Indicator|Continuous|\n",
        "|cons.conf.idx | Consumer Confidence Index - Monthly Indicator|Continuous|\n",
        "|euribor3m| Euribor 3 Month Rolling Average - Daily Indicator |Continuous|\n",
        "|total_assets|Total Assets Self Reported by the Customer in 1,000 Euros|Continuous|\n",
        "|rep_avg_rating| average rating of the representative prior to the current campaign |Continuous|\n",
        "|customer_length| Number of Months Customer Doing Business ith the Bank - Internal Records |Continuous|\n",
        "|Poutcome_success| Outcome of the Previous Marketing Campaign | Categorical |\n",
        "|Campaign| Number of Contacts Performed During this Campaign and for this Client |(Continuous?, includes last contact)|\n",
        "|cons.price.idx| Consumer Price Index - Monthly Indicator | Continuous|\n",
        "|qtr_bin_Q1| The quarter that the customer was reached from the campaign| Binary|\n",
        "|y| Has the Client Subscribed a Term Deposit? |Binary|"
      ]
    },
    {
      "cell_type": "markdown",
      "source": [
        "[Feature Selection CSV - Train Data](https://raw.githubusercontent.com/mulcahrj/DATA6545_Final/main/selected_features_train.csv)\n",
        "\n",
        "[Feature Selection CSV - Test Data](https://raw.githubusercontent.com/mulcahrj/DATA6545_Final/main/selected_features_test.csv)"
      ],
      "metadata": {
        "id": "h7xxVs-fNyRT"
      }
    },
    {
      "cell_type": "markdown",
      "metadata": {
        "id": "tFzBvYIgYwua"
      },
      "source": [
        "# **Models**\n",
        "---"
      ]
    },
    {
      "cell_type": "markdown",
      "metadata": {
        "id": "GS_0p0qg07YL"
      },
      "source": [
        "Listed below are the models we used models and the model results are at the bottom of the section."
      ]
    },
    {
      "cell_type": "markdown",
      "metadata": {
        "id": "6ArYMGeSY1e1"
      },
      "source": [
        "## Naive Bayes"
      ]
    },
    {
      "cell_type": "markdown",
      "source": [
        "[Niave Bayes Model](https://colab.research.google.com/github/mulcahrj/DATA6545_Final/blob/main/Naive_Bayes.ipynb)"
      ],
      "metadata": {
        "id": "o7jvBPHq4odg"
      }
    },
    {
      "cell_type": "markdown",
      "metadata": {
        "id": "gaHXqIqjY6cq"
      },
      "source": [
        "## Decision Tree"
      ]
    },
    {
      "cell_type": "markdown",
      "source": [
        ":[Decision Tree Model](https://colab.research.google.com/github/mulcahrj/DATA6545_Final/blob/main/Decision_Tree.ipynb)"
      ],
      "metadata": {
        "id": "x7FhgSM74s7b"
      }
    },
    {
      "cell_type": "markdown",
      "metadata": {
        "id": "mgV4eQf7Yz5L"
      },
      "source": [
        "## Logistical Regression"
      ]
    },
    {
      "cell_type": "markdown",
      "source": [
        "[Logistical Regression Model](https://github.com/mulcahrj/DATA6545_Final/blob/main/Logistical_Regression.ipynb)"
      ],
      "metadata": {
        "id": "nnBaoH4Z4p0b"
      }
    },
    {
      "cell_type": "markdown",
      "metadata": {
        "id": "DxB9MNc1Y3Sk"
      },
      "source": [
        "## Random Forest"
      ]
    },
    {
      "cell_type": "markdown",
      "source": [
        "[Random Forest Model](https://colab.research.google.com/github/mulcahrj/DATA6545_Final/blob/main/Random_Forest.ipynb)"
      ],
      "metadata": {
        "id": "Uy0eqEQp4rou"
      }
    },
    {
      "cell_type": "markdown",
      "metadata": {
        "id": "IZfyZ6eeZAPI"
      },
      "source": [
        "## XG Boost"
      ]
    },
    {
      "cell_type": "markdown",
      "source": [
        "[XG Boost Model](https://github.com/mulcahrj/DATA6545_Final/blob/main/XGBoost.ipynb)"
      ],
      "metadata": {
        "id": "5TPpMCcy4uzS"
      }
    },
    {
      "cell_type": "markdown",
      "metadata": {
        "id": "40fxyaWZY75W"
      },
      "source": [
        "## SVM"
      ]
    },
    {
      "cell_type": "markdown",
      "source": [
        "[SVM Model](https://github.com/mulcahrj/DATA6545_Final/blob/main/SVM.ipynb)"
      ],
      "metadata": {
        "id": "t5l9Nc8r4wgC"
      }
    },
    {
      "cell_type": "markdown",
      "metadata": {
        "id": "Ypudw3YQamMQ"
      },
      "source": [
        "## Results Summary"
      ]
    },
    {
      "cell_type": "markdown",
      "metadata": {
        "id": "BLAbP2rIb1Ee"
      },
      "source": [
        "| Model | 1-F1 Bias| Variance |1-AUC ROC | Var AUC ROC |\n",
        "| ------------ | ---------- | ---------- | ---------- | ---------- |\n",
        "Niave Bayes | 0.576 | 0.0087 | 0.745 | 0.008 |\n",
        "Decision Tree |0.8986 | **0.0035** | 0.8978 | 0.0032 |\n",
        "Logistical Regression |0.7079 | 0.0062 | 0.7587 | 0.0074 |\n",
        "Random Forest |0.929 | **0.0036** | 0.976 | **0.0016** |\n",
        "XG Boost | 0.8851 | 0.0042 | 0.9416 | 0.0036 |\n",
        "SVM | 0.701 | 0.0059 | 0.7407 | 0.0065 |"
      ]
    },
    {
      "cell_type": "markdown",
      "metadata": {
        "id": "iKbPuPFnyd1S"
      },
      "source": [
        "Based on F1 and AUC ROC, we determined that Random Forest provided the best results. Both of these models also had the lowest variance in terms of F1 and AUC which is important in order to create a consistent model. While it did have higher bias than the others, we felt consistency is more important. While something with lower bias and higher variance can provide potentially more accurate results, it would do so with lower consistency. Since banks are businesses, and those businesses need to go through annual budgeting cycles, we find that predictability is more important than sporatic accuracy. Random Forest allows the business to plan and account for the potential inaccuracies that come with higher bias in a predictable way that accounts for the way banks go through business cycles."
      ]
    },
    {
      "cell_type": "markdown",
      "metadata": {
        "id": "TFjG0DtxxK1h"
      },
      "source": [
        "# **Optimization and Hypertuning**\n",
        "---"
      ]
    },
    {
      "cell_type": "markdown",
      "metadata": {
        "id": "zB2ZL1XX0pSA"
      },
      "source": [
        "Using the top performing models mentioned above we then completed optimization and hypertunning. We first conducted TPOT, followed by Grid Search and Random Search on our best two models: XG Boost and Random Forest."
      ]
    },
    {
      "cell_type": "markdown",
      "metadata": {
        "id": "M9pMJRRzHLbu"
      },
      "source": [
        "##TPOT\n",
        "\n",
        "[TPOT Model](https://colab.research.google.com/github/mulcahrj/DATA6545_Final/blob/main/TPOT.ipynb)"
      ]
    },
    {
      "cell_type": "markdown",
      "metadata": {
        "id": "O3w2rxGXHNNF"
      },
      "source": [
        "## Grid Search Random Forest\n",
        "[Grid search for Random Forest Model](https://colab.research.google.com/github/mulcahrj/DATA6545_Final/blob/main/Random_Forest_Grid_Search.ipynb)"
      ]
    },
    {
      "cell_type": "markdown",
      "metadata": {
        "id": "IkG5HENuHRaL"
      },
      "source": [
        "## Random Search Random Forest\n",
        "\n",
        "[Random Search for Random Forest Model](https://colab.research.google.com/github/mulcahrj/DATA6545_Final/blob/main/Random_Forest_Randomized_Search.ipynb)"
      ]
    },
    {
      "cell_type": "markdown",
      "metadata": {
        "id": "KdRfA4oTVwDO"
      },
      "source": [
        "## Results Summary"
      ]
    },
    {
      "cell_type": "markdown",
      "metadata": {
        "id": "UUAcorr0Vssy"
      },
      "source": [
        "| Model | 1-F1 Bias| F1 Variance | 1-AUC Bias | AUC Variance |\n",
        "| ------------ | ---------- | ---------- | ---------- | ---------- |\n",
        "Random Forest |0.929 | **0.0036** | 0.976 | **0.0016** |\n",
        "TPOT |0.0000 | 0.0000 | 0.0000 | 0.0000 |\n",
        "Grid Search Random Forest |  0.0000 | 0.0000 | 0.0000 | 0.0000 |\n",
        "Random Search Random Forest| 0.7311 | 0.0068 | 0.0000 | 0.0000 |"
      ]
    },
    {
      "cell_type": "markdown",
      "metadata": {
        "id": "bmWPn8GUEF78"
      },
      "source": [
        "# Feature Importance"
      ]
    },
    {
      "cell_type": "markdown",
      "metadata": {
        "id": "zevuCYzwET9N"
      },
      "source": [
        "We completed bootstrapping to showcase that each feature in our model led to an improvement overall for our evaluation metrics. We also were interested in identifying which features were most relevant for our chosen models."
      ]
    },
    {
      "cell_type": "markdown",
      "metadata": {
        "id": "F38sCxYcEReI"
      },
      "source": [
        "[Random Forest Feature Rank](https://colab.research.google.com/github/mulcahrj/DATA6545_Final/blob/main/Random_Forest.ipynb)\n",
        "\n",
        "[Boot Strapping](https://colab.research.google.com/github/mulcahrj/DATA6545_Final/blob/main/Boot_Strapping.ipynb)"
      ]
    },
    {
      "cell_type": "markdown",
      "metadata": {
        "id": "dGHy0Wm1EVK6"
      },
      "source": [
        "| Random Forest Rank  | Feature |\n",
        "| ------------ | ---------- |\n",
        "1 | total_assets\n",
        "2 | customer_length\n",
        "3 | euribor3m\n",
        "4 | rep_avg_rating\n",
        "5 | campaign\n",
        "6 | poutcome_success\n",
        "7 | emp.var.rate\n",
        "8 | cons.conf.idx\n",
        "9 | cons.price.idx\n",
        "10 | qtr_bin_Q1"
      ]
    },
    {
      "cell_type": "markdown",
      "source": [
        "![rf_fi.png](data:image/png;base64,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)\n"
      ],
      "metadata": {
        "id": "prnooiiBWUXR"
      }
    },
    {
      "cell_type": "markdown",
      "metadata": {
        "id": "oty9shKQai3o"
      },
      "source": [
        "# **Conclusion**\n",
        "---"
      ]
    },
    {
      "cell_type": "markdown",
      "metadata": {
        "id": "eiuOKJOtVzs7"
      },
      "source": [
        "## Can we predict whether a customer will open a term deposit account with the bank after a targeted marking campaign?\n",
        "\n",
        "\n",
        "Yes, we can predict this with our modeling.\n"
      ]
    },
    {
      "cell_type": "markdown",
      "metadata": {
        "id": "rGK_BNSZD1-O"
      },
      "source": [
        "## Feature Importance"
      ]
    },
    {
      "cell_type": "markdown",
      "metadata": {
        "id": "O6tTdwpCudZh"
      },
      "source": [
        "We found 10 important features, and then ranked them based on the Random Forest model. Of those, we find there are three distinct groups of these features in terms of how important they are to the model: high importance, moderate importance, low imprtance.\n",
        "\n",
        "Of those, the high importance features are the main drivers of the model, which are, sorted in order: customer total assets, length a customer has been with the bank, Euribor 3 month floating average, and representative average rating prior the the current campaign. These high importance features are a mix of customer attribute, macroeconomic environment, and the specific agent from the bank designated for that customer interaction."
      ]
    },
    {
      "cell_type": "markdown",
      "metadata": {
        "id": "vr92GkD7xZGv"
      },
      "source": [
        "## Who does this benefit?"
      ]
    },
    {
      "cell_type": "markdown",
      "metadata": {
        "id": "RIPUpzZzxeud"
      },
      "source": [
        "### Sales Teams\n",
        "\n",
        "Campaigns like these are specifically designed to result in the highest amount of sign ups for the goal. In general, sales teams are the ones who are tasked with a marketing campaign like this, generally being the ones who are the point of contact for the representative. Since sales are typically linked to comissions or a flat rate per customer conversion, this model will let the sales team to be much more targeted in the approach to targeting customers for product sales.\n"
      ]
    },
    {
      "cell_type": "markdown",
      "metadata": {
        "id": "oYuB73DqxcQE"
      },
      "source": [
        "### Bank Administration\n",
        "\n",
        "Typically, strategy is set by bank leadership and will movbe down to various teams for execution. This bank was looking to gain depository assets and designed a marketing campaign to get customers to do that in the form of a term deposit account. Federal mandates like minimum reserve ratios, tested by programs like CCAR, are generally ways to predict if a bank is stable enough to withstand an economic downturn or catostrophic company event. While this bank is in Protugal, the European Central Bank has programs and initiatives similar to that as the Federal Reserve.\n"
      ]
    },
    {
      "cell_type": "markdown",
      "metadata": {
        "id": "ysRvoVhdxha3"
      },
      "source": [
        "### Customers\n",
        "\n",
        "The fact that customers subscribe to term deposit accounts means they were representing an underserved population with an unmet need. This campaign exposed the fact that some customers, when presented with the option, deemed it was in their best interest to subscribe to a term deposit account. Without this option, they would be worse off overall. And with the fact that these customers subscribed meant they were not seeking the product or something similar with this bank or any other."
      ]
    },
    {
      "cell_type": "markdown",
      "metadata": {
        "id": "rPz3gGyaqmxy"
      },
      "source": [
        "# **Next Steps**\n",
        "\n",
        "Given more time, we would continue to explore the models and continue with Random Search and Grid Search. We think with additional resources we could also have a greater impact with thoughtful feature engineering. Given the time constraints and the focus on creating a complete pipeline first, we left more robust feature engineering out of this model. \n",
        "\n",
        "Additionally, we would also test different pipelines with respect to skewness, outlier handling, min-maxing and standardizing the datset. We found that the order of these processes could substantially change the output and scoring of the various models.\n",
        "\n",
        "Lastly, we would dedicate considerable time to hyperparameter tuning. We ran out of time given competing effort to do much in this area. While we understand what needs to be done, the iterations over our various models, bootstrapping, TPOT, and creating this report left us with less time than we had hoped for."
      ]
    },
    {
      "cell_type": "markdown",
      "source": [
        "# **Lessons Learned**\n",
        "\n",
        "Data processing contributed to about 75% of the effort in this analysis and much of it was creating, testing, and running various functions and methods to prepare the data for modeling. We have a greater appreciation in the effort it takes to process data and prepare for modeling. Additionally, with shared resources using cloud computer, some models can take an extremely long time to run. Having a notebook run locally will likely yield results quicker. Related to that, we would allocate more time to model execution, as we had ephasized more time dedicated to writing code for processing and modeling instead of allocating that time to model execution. Depending on the model and hyperparameter selected and their values, the amount of time to execute can vary in amounts we had not anticipated.\n",
        "\n",
        "Lastly, we would plan out the project better for specific milestones throughout the pipeline(s). Having an outline and general understanding of what is required from data retrieval to model interpretation can allow for maximum optimization of the models and output. While we knew this is an iterative process, we had not know to the extent it can be.\n",
        "\n"
      ],
      "metadata": {
        "id": "OfRb3h3tP2Fh"
      }
    },
    {
      "cell_type": "markdown",
      "metadata": {
        "id": "gsGux4iaA-TE"
      },
      "source": [
        "# **Presentation**"
      ]
    },
    {
      "cell_type": "markdown",
      "source": [
        "[Presentation Deck](https://docs.google.com/presentation/d/18vLcaGwO4JmWeKgq_EPFt0cHgfj9etwi/edit?usp=sharing&ouid=100256322139465309567&rtpof=true&sd=true)\n"
      ],
      "metadata": {
        "id": "RHiKIX-1toat"
      }
    }
  ]
}