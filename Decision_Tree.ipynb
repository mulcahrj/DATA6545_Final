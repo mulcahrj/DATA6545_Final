{
  "nbformat": 4,
  "nbformat_minor": 0,
  "metadata": {
    "colab": {
      "name": "Decision_Tree.ipynb",
      "provenance": [],
      "include_colab_link": true
    },
    "kernelspec": {
      "name": "python3",
      "display_name": "Python 3"
    },
    "language_info": {
      "name": "python"
    }
  },
  "cells": [
    {
      "cell_type": "markdown",
      "metadata": {
        "id": "view-in-github",
        "colab_type": "text"
      },
      "source": [
        "<a href=\"https://colab.research.google.com/github/mulcahrj/DATA6545_Final/blob/main/Decision_Tree.ipynb\" target=\"_parent\"><img src=\"https://colab.research.google.com/assets/colab-badge.svg\" alt=\"Open In Colab\"/></a>"
      ]
    },
    {
      "cell_type": "code",
      "source": [
        "import pandas as pd\n",
        "import numpy as np"
      ],
      "metadata": {
        "id": "Dbe_svNWOwdB"
      },
      "execution_count": 17,
      "outputs": []
    },
    {
      "cell_type": "code",
      "source": [
        "path = 'https://raw.githubusercontent.com/mulcahrj/DATA6545_Final/main/selected_features_train.csv'\n",
        "features_train = pd.read_csv(path)\n",
        "\n",
        "path = 'https://raw.githubusercontent.com/mulcahrj/DATA6545_Final/main/selected_features_test.csv'\n",
        "features_test = pd.read_csv(path)"
      ],
      "metadata": {
        "id": "_Ed6EF4LOzXH"
      },
      "execution_count": 18,
      "outputs": []
    },
    {
      "cell_type": "code",
      "source": [
        "features_train.head()"
      ],
      "metadata": {
        "colab": {
          "base_uri": "https://localhost:8080/",
          "height": 270
        },
        "id": "g0ZA1bTGPO1P",
        "outputId": "d2913906-dbde-4495-f8f7-5ba935d47cfc"
      },
      "execution_count": 19,
      "outputs": [
        {
          "output_type": "execute_result",
          "data": {
            "text/plain": [
              "   poutcome_success  emp.var.rate  euribor3m  cons.price.idx  cons.conf.idx  \\\n",
              "0                 0      1.000000   0.967665        0.605052       0.408442   \n",
              "1                 0      0.148320   0.061928        0.534818       0.235723   \n",
              "2                 0      1.000000   0.968428        0.414483       0.692481   \n",
              "3                 0      0.849418   0.929140        0.637496       0.680736   \n",
              "4                 0      1.000000   0.967665        0.605052       0.408442   \n",
              "\n",
              "   campaign  total_assets  rep_avg_rating  customer_length  qtr_bin_Q1  y  \n",
              "0  0.573524      0.553302        0.740661         0.787138           0  0  \n",
              "1  0.744386      0.817121        0.275429         0.357026           0  0  \n",
              "2  0.000000      0.191640        0.959432         0.966685           0  0  \n",
              "3  0.000000      0.399434        0.285757         0.369019           0  0  \n",
              "4  0.391017      0.291517        0.244337         0.325443           0  0  "
            ],
            "text/html": [
              "\n",
              "  <div id=\"df-0db1e639-fb53-4623-bd13-ba5c4757d641\">\n",
              "    <div class=\"colab-df-container\">\n",
              "      <div>\n",
              "<style scoped>\n",
              "    .dataframe tbody tr th:only-of-type {\n",
              "        vertical-align: middle;\n",
              "    }\n",
              "\n",
              "    .dataframe tbody tr th {\n",
              "        vertical-align: top;\n",
              "    }\n",
              "\n",
              "    .dataframe thead th {\n",
              "        text-align: right;\n",
              "    }\n",
              "</style>\n",
              "<table border=\"1\" class=\"dataframe\">\n",
              "  <thead>\n",
              "    <tr style=\"text-align: right;\">\n",
              "      <th></th>\n",
              "      <th>poutcome_success</th>\n",
              "      <th>emp.var.rate</th>\n",
              "      <th>euribor3m</th>\n",
              "      <th>cons.price.idx</th>\n",
              "      <th>cons.conf.idx</th>\n",
              "      <th>campaign</th>\n",
              "      <th>total_assets</th>\n",
              "      <th>rep_avg_rating</th>\n",
              "      <th>customer_length</th>\n",
              "      <th>qtr_bin_Q1</th>\n",
              "      <th>y</th>\n",
              "    </tr>\n",
              "  </thead>\n",
              "  <tbody>\n",
              "    <tr>\n",
              "      <th>0</th>\n",
              "      <td>0</td>\n",
              "      <td>1.000000</td>\n",
              "      <td>0.967665</td>\n",
              "      <td>0.605052</td>\n",
              "      <td>0.408442</td>\n",
              "      <td>0.573524</td>\n",
              "      <td>0.553302</td>\n",
              "      <td>0.740661</td>\n",
              "      <td>0.787138</td>\n",
              "      <td>0</td>\n",
              "      <td>0</td>\n",
              "    </tr>\n",
              "    <tr>\n",
              "      <th>1</th>\n",
              "      <td>0</td>\n",
              "      <td>0.148320</td>\n",
              "      <td>0.061928</td>\n",
              "      <td>0.534818</td>\n",
              "      <td>0.235723</td>\n",
              "      <td>0.744386</td>\n",
              "      <td>0.817121</td>\n",
              "      <td>0.275429</td>\n",
              "      <td>0.357026</td>\n",
              "      <td>0</td>\n",
              "      <td>0</td>\n",
              "    </tr>\n",
              "    <tr>\n",
              "      <th>2</th>\n",
              "      <td>0</td>\n",
              "      <td>1.000000</td>\n",
              "      <td>0.968428</td>\n",
              "      <td>0.414483</td>\n",
              "      <td>0.692481</td>\n",
              "      <td>0.000000</td>\n",
              "      <td>0.191640</td>\n",
              "      <td>0.959432</td>\n",
              "      <td>0.966685</td>\n",
              "      <td>0</td>\n",
              "      <td>0</td>\n",
              "    </tr>\n",
              "    <tr>\n",
              "      <th>3</th>\n",
              "      <td>0</td>\n",
              "      <td>0.849418</td>\n",
              "      <td>0.929140</td>\n",
              "      <td>0.637496</td>\n",
              "      <td>0.680736</td>\n",
              "      <td>0.000000</td>\n",
              "      <td>0.399434</td>\n",
              "      <td>0.285757</td>\n",
              "      <td>0.369019</td>\n",
              "      <td>0</td>\n",
              "      <td>0</td>\n",
              "    </tr>\n",
              "    <tr>\n",
              "      <th>4</th>\n",
              "      <td>0</td>\n",
              "      <td>1.000000</td>\n",
              "      <td>0.967665</td>\n",
              "      <td>0.605052</td>\n",
              "      <td>0.408442</td>\n",
              "      <td>0.391017</td>\n",
              "      <td>0.291517</td>\n",
              "      <td>0.244337</td>\n",
              "      <td>0.325443</td>\n",
              "      <td>0</td>\n",
              "      <td>0</td>\n",
              "    </tr>\n",
              "  </tbody>\n",
              "</table>\n",
              "</div>\n",
              "      <button class=\"colab-df-convert\" onclick=\"convertToInteractive('df-0db1e639-fb53-4623-bd13-ba5c4757d641')\"\n",
              "              title=\"Convert this dataframe to an interactive table.\"\n",
              "              style=\"display:none;\">\n",
              "        \n",
              "  <svg xmlns=\"http://www.w3.org/2000/svg\" height=\"24px\"viewBox=\"0 0 24 24\"\n",
              "       width=\"24px\">\n",
              "    <path d=\"M0 0h24v24H0V0z\" fill=\"none\"/>\n",
              "    <path d=\"M18.56 5.44l.94 2.06.94-2.06 2.06-.94-2.06-.94-.94-2.06-.94 2.06-2.06.94zm-11 1L8.5 8.5l.94-2.06 2.06-.94-2.06-.94L8.5 2.5l-.94 2.06-2.06.94zm10 10l.94 2.06.94-2.06 2.06-.94-2.06-.94-.94-2.06-.94 2.06-2.06.94z\"/><path d=\"M17.41 7.96l-1.37-1.37c-.4-.4-.92-.59-1.43-.59-.52 0-1.04.2-1.43.59L10.3 9.45l-7.72 7.72c-.78.78-.78 2.05 0 2.83L4 21.41c.39.39.9.59 1.41.59.51 0 1.02-.2 1.41-.59l7.78-7.78 2.81-2.81c.8-.78.8-2.07 0-2.86zM5.41 20L4 18.59l7.72-7.72 1.47 1.35L5.41 20z\"/>\n",
              "  </svg>\n",
              "      </button>\n",
              "      \n",
              "  <style>\n",
              "    .colab-df-container {\n",
              "      display:flex;\n",
              "      flex-wrap:wrap;\n",
              "      gap: 12px;\n",
              "    }\n",
              "\n",
              "    .colab-df-convert {\n",
              "      background-color: #E8F0FE;\n",
              "      border: none;\n",
              "      border-radius: 50%;\n",
              "      cursor: pointer;\n",
              "      display: none;\n",
              "      fill: #1967D2;\n",
              "      height: 32px;\n",
              "      padding: 0 0 0 0;\n",
              "      width: 32px;\n",
              "    }\n",
              "\n",
              "    .colab-df-convert:hover {\n",
              "      background-color: #E2EBFA;\n",
              "      box-shadow: 0px 1px 2px rgba(60, 64, 67, 0.3), 0px 1px 3px 1px rgba(60, 64, 67, 0.15);\n",
              "      fill: #174EA6;\n",
              "    }\n",
              "\n",
              "    [theme=dark] .colab-df-convert {\n",
              "      background-color: #3B4455;\n",
              "      fill: #D2E3FC;\n",
              "    }\n",
              "\n",
              "    [theme=dark] .colab-df-convert:hover {\n",
              "      background-color: #434B5C;\n",
              "      box-shadow: 0px 1px 3px 1px rgba(0, 0, 0, 0.15);\n",
              "      filter: drop-shadow(0px 1px 2px rgba(0, 0, 0, 0.3));\n",
              "      fill: #FFFFFF;\n",
              "    }\n",
              "  </style>\n",
              "\n",
              "      <script>\n",
              "        const buttonEl =\n",
              "          document.querySelector('#df-0db1e639-fb53-4623-bd13-ba5c4757d641 button.colab-df-convert');\n",
              "        buttonEl.style.display =\n",
              "          google.colab.kernel.accessAllowed ? 'block' : 'none';\n",
              "\n",
              "        async function convertToInteractive(key) {\n",
              "          const element = document.querySelector('#df-0db1e639-fb53-4623-bd13-ba5c4757d641');\n",
              "          const dataTable =\n",
              "            await google.colab.kernel.invokeFunction('convertToInteractive',\n",
              "                                                     [key], {});\n",
              "          if (!dataTable) return;\n",
              "\n",
              "          const docLinkHtml = 'Like what you see? Visit the ' +\n",
              "            '<a target=\"_blank\" href=https://colab.research.google.com/notebooks/data_table.ipynb>data table notebook</a>'\n",
              "            + ' to learn more about interactive tables.';\n",
              "          element.innerHTML = '';\n",
              "          dataTable['output_type'] = 'display_data';\n",
              "          await google.colab.output.renderOutput(dataTable, element);\n",
              "          const docLink = document.createElement('div');\n",
              "          docLink.innerHTML = docLinkHtml;\n",
              "          element.appendChild(docLink);\n",
              "        }\n",
              "      </script>\n",
              "    </div>\n",
              "  </div>\n",
              "  "
            ]
          },
          "metadata": {},
          "execution_count": 19
        }
      ]
    },
    {
      "cell_type": "code",
      "source": [
        "features_train.shape"
      ],
      "metadata": {
        "id": "MkXvp09ThV5K",
        "outputId": "d91d1eb1-2137-4b95-de8e-a926b4e7eb18",
        "colab": {
          "base_uri": "https://localhost:8080/"
        }
      },
      "execution_count": 20,
      "outputs": [
        {
          "output_type": "execute_result",
          "data": {
            "text/plain": [
              "(33980, 11)"
            ]
          },
          "metadata": {},
          "execution_count": 20
        }
      ]
    },
    {
      "cell_type": "code",
      "source": [
        "features_test.head()"
      ],
      "metadata": {
        "id": "TNhMMfRThV0K",
        "outputId": "4a6a70b3-2785-426d-901f-77810d52f356",
        "colab": {
          "base_uri": "https://localhost:8080/",
          "height": 270
        }
      },
      "execution_count": 21,
      "outputs": [
        {
          "output_type": "execute_result",
          "data": {
            "text/plain": [
              "   poutcome_success  emp.var.rate  euribor3m  cons.price.idx  cons.conf.idx  \\\n",
              "0                 0      1.000000   0.968772        0.426750       0.688095   \n",
              "1                 1      0.149486   0.075470        0.289825       0.190106   \n",
              "2                 0      1.000000   0.968772        0.616621       0.405799   \n",
              "3                 0      0.420087   0.699399        0.335185       0.438079   \n",
              "4                 0      1.000000   0.968394        0.616621       0.447200   \n",
              "\n",
              "   campaign  total_assets  rep_avg_rating  customer_length  qtr_bin_Q1  y  \n",
              "0  0.000000      0.373313        0.492516         0.565686           0  0  \n",
              "1  0.396426      0.446175        0.881017         0.902103           0  1  \n",
              "2  0.000000      0.543997        0.702308         0.751870           0  0  \n",
              "3  0.000000      0.727375        0.153783         0.221523           0  0  \n",
              "4  0.580737      0.185583        0.028967         0.054738           0  0  "
            ],
            "text/html": [
              "\n",
              "  <div id=\"df-3668c3da-8ae9-4cf2-b925-4e1724ea8fea\">\n",
              "    <div class=\"colab-df-container\">\n",
              "      <div>\n",
              "<style scoped>\n",
              "    .dataframe tbody tr th:only-of-type {\n",
              "        vertical-align: middle;\n",
              "    }\n",
              "\n",
              "    .dataframe tbody tr th {\n",
              "        vertical-align: top;\n",
              "    }\n",
              "\n",
              "    .dataframe thead th {\n",
              "        text-align: right;\n",
              "    }\n",
              "</style>\n",
              "<table border=\"1\" class=\"dataframe\">\n",
              "  <thead>\n",
              "    <tr style=\"text-align: right;\">\n",
              "      <th></th>\n",
              "      <th>poutcome_success</th>\n",
              "      <th>emp.var.rate</th>\n",
              "      <th>euribor3m</th>\n",
              "      <th>cons.price.idx</th>\n",
              "      <th>cons.conf.idx</th>\n",
              "      <th>campaign</th>\n",
              "      <th>total_assets</th>\n",
              "      <th>rep_avg_rating</th>\n",
              "      <th>customer_length</th>\n",
              "      <th>qtr_bin_Q1</th>\n",
              "      <th>y</th>\n",
              "    </tr>\n",
              "  </thead>\n",
              "  <tbody>\n",
              "    <tr>\n",
              "      <th>0</th>\n",
              "      <td>0</td>\n",
              "      <td>1.000000</td>\n",
              "      <td>0.968772</td>\n",
              "      <td>0.426750</td>\n",
              "      <td>0.688095</td>\n",
              "      <td>0.000000</td>\n",
              "      <td>0.373313</td>\n",
              "      <td>0.492516</td>\n",
              "      <td>0.565686</td>\n",
              "      <td>0</td>\n",
              "      <td>0</td>\n",
              "    </tr>\n",
              "    <tr>\n",
              "      <th>1</th>\n",
              "      <td>1</td>\n",
              "      <td>0.149486</td>\n",
              "      <td>0.075470</td>\n",
              "      <td>0.289825</td>\n",
              "      <td>0.190106</td>\n",
              "      <td>0.396426</td>\n",
              "      <td>0.446175</td>\n",
              "      <td>0.881017</td>\n",
              "      <td>0.902103</td>\n",
              "      <td>0</td>\n",
              "      <td>1</td>\n",
              "    </tr>\n",
              "    <tr>\n",
              "      <th>2</th>\n",
              "      <td>0</td>\n",
              "      <td>1.000000</td>\n",
              "      <td>0.968772</td>\n",
              "      <td>0.616621</td>\n",
              "      <td>0.405799</td>\n",
              "      <td>0.000000</td>\n",
              "      <td>0.543997</td>\n",
              "      <td>0.702308</td>\n",
              "      <td>0.751870</td>\n",
              "      <td>0</td>\n",
              "      <td>0</td>\n",
              "    </tr>\n",
              "    <tr>\n",
              "      <th>3</th>\n",
              "      <td>0</td>\n",
              "      <td>0.420087</td>\n",
              "      <td>0.699399</td>\n",
              "      <td>0.335185</td>\n",
              "      <td>0.438079</td>\n",
              "      <td>0.000000</td>\n",
              "      <td>0.727375</td>\n",
              "      <td>0.153783</td>\n",
              "      <td>0.221523</td>\n",
              "      <td>0</td>\n",
              "      <td>0</td>\n",
              "    </tr>\n",
              "    <tr>\n",
              "      <th>4</th>\n",
              "      <td>0</td>\n",
              "      <td>1.000000</td>\n",
              "      <td>0.968394</td>\n",
              "      <td>0.616621</td>\n",
              "      <td>0.447200</td>\n",
              "      <td>0.580737</td>\n",
              "      <td>0.185583</td>\n",
              "      <td>0.028967</td>\n",
              "      <td>0.054738</td>\n",
              "      <td>0</td>\n",
              "      <td>0</td>\n",
              "    </tr>\n",
              "  </tbody>\n",
              "</table>\n",
              "</div>\n",
              "      <button class=\"colab-df-convert\" onclick=\"convertToInteractive('df-3668c3da-8ae9-4cf2-b925-4e1724ea8fea')\"\n",
              "              title=\"Convert this dataframe to an interactive table.\"\n",
              "              style=\"display:none;\">\n",
              "        \n",
              "  <svg xmlns=\"http://www.w3.org/2000/svg\" height=\"24px\"viewBox=\"0 0 24 24\"\n",
              "       width=\"24px\">\n",
              "    <path d=\"M0 0h24v24H0V0z\" fill=\"none\"/>\n",
              "    <path d=\"M18.56 5.44l.94 2.06.94-2.06 2.06-.94-2.06-.94-.94-2.06-.94 2.06-2.06.94zm-11 1L8.5 8.5l.94-2.06 2.06-.94-2.06-.94L8.5 2.5l-.94 2.06-2.06.94zm10 10l.94 2.06.94-2.06 2.06-.94-2.06-.94-.94-2.06-.94 2.06-2.06.94z\"/><path d=\"M17.41 7.96l-1.37-1.37c-.4-.4-.92-.59-1.43-.59-.52 0-1.04.2-1.43.59L10.3 9.45l-7.72 7.72c-.78.78-.78 2.05 0 2.83L4 21.41c.39.39.9.59 1.41.59.51 0 1.02-.2 1.41-.59l7.78-7.78 2.81-2.81c.8-.78.8-2.07 0-2.86zM5.41 20L4 18.59l7.72-7.72 1.47 1.35L5.41 20z\"/>\n",
              "  </svg>\n",
              "      </button>\n",
              "      \n",
              "  <style>\n",
              "    .colab-df-container {\n",
              "      display:flex;\n",
              "      flex-wrap:wrap;\n",
              "      gap: 12px;\n",
              "    }\n",
              "\n",
              "    .colab-df-convert {\n",
              "      background-color: #E8F0FE;\n",
              "      border: none;\n",
              "      border-radius: 50%;\n",
              "      cursor: pointer;\n",
              "      display: none;\n",
              "      fill: #1967D2;\n",
              "      height: 32px;\n",
              "      padding: 0 0 0 0;\n",
              "      width: 32px;\n",
              "    }\n",
              "\n",
              "    .colab-df-convert:hover {\n",
              "      background-color: #E2EBFA;\n",
              "      box-shadow: 0px 1px 2px rgba(60, 64, 67, 0.3), 0px 1px 3px 1px rgba(60, 64, 67, 0.15);\n",
              "      fill: #174EA6;\n",
              "    }\n",
              "\n",
              "    [theme=dark] .colab-df-convert {\n",
              "      background-color: #3B4455;\n",
              "      fill: #D2E3FC;\n",
              "    }\n",
              "\n",
              "    [theme=dark] .colab-df-convert:hover {\n",
              "      background-color: #434B5C;\n",
              "      box-shadow: 0px 1px 3px 1px rgba(0, 0, 0, 0.15);\n",
              "      filter: drop-shadow(0px 1px 2px rgba(0, 0, 0, 0.3));\n",
              "      fill: #FFFFFF;\n",
              "    }\n",
              "  </style>\n",
              "\n",
              "      <script>\n",
              "        const buttonEl =\n",
              "          document.querySelector('#df-3668c3da-8ae9-4cf2-b925-4e1724ea8fea button.colab-df-convert');\n",
              "        buttonEl.style.display =\n",
              "          google.colab.kernel.accessAllowed ? 'block' : 'none';\n",
              "\n",
              "        async function convertToInteractive(key) {\n",
              "          const element = document.querySelector('#df-3668c3da-8ae9-4cf2-b925-4e1724ea8fea');\n",
              "          const dataTable =\n",
              "            await google.colab.kernel.invokeFunction('convertToInteractive',\n",
              "                                                     [key], {});\n",
              "          if (!dataTable) return;\n",
              "\n",
              "          const docLinkHtml = 'Like what you see? Visit the ' +\n",
              "            '<a target=\"_blank\" href=https://colab.research.google.com/notebooks/data_table.ipynb>data table notebook</a>'\n",
              "            + ' to learn more about interactive tables.';\n",
              "          element.innerHTML = '';\n",
              "          dataTable['output_type'] = 'display_data';\n",
              "          await google.colab.output.renderOutput(dataTable, element);\n",
              "          const docLink = document.createElement('div');\n",
              "          docLink.innerHTML = docLinkHtml;\n",
              "          element.appendChild(docLink);\n",
              "        }\n",
              "      </script>\n",
              "    </div>\n",
              "  </div>\n",
              "  "
            ]
          },
          "metadata": {},
          "execution_count": 21
        }
      ]
    },
    {
      "cell_type": "code",
      "source": [
        "features_test.shape"
      ],
      "metadata": {
        "id": "WD8mDjwdhVt2",
        "outputId": "9a208c7a-edb2-4f11-a8fd-a2b354a81d5d",
        "colab": {
          "base_uri": "https://localhost:8080/"
        }
      },
      "execution_count": 22,
      "outputs": [
        {
          "output_type": "execute_result",
          "data": {
            "text/plain": [
              "(11327, 11)"
            ]
          },
          "metadata": {},
          "execution_count": 22
        }
      ]
    },
    {
      "cell_type": "code",
      "execution_count": 23,
      "metadata": {
        "colab": {
          "base_uri": "https://localhost:8080/"
        },
        "id": "ng-PJzxATc8m",
        "outputId": "252d392c-9197-4c59-f01c-db35931058fa"
      },
      "outputs": [
        {
          "output_type": "stream",
          "name": "stdout",
          "text": [
            "Requirement already satisfied: imblearn==0.0 in /usr/local/lib/python3.7/dist-packages (0.0)\n",
            "Requirement already satisfied: imbalanced-learn in /usr/local/lib/python3.7/dist-packages (from imblearn==0.0) (0.8.1)\n",
            "Requirement already satisfied: scipy>=0.19.1 in /usr/local/lib/python3.7/dist-packages (from imbalanced-learn->imblearn==0.0) (1.4.1)\n",
            "Requirement already satisfied: numpy>=1.13.3 in /usr/local/lib/python3.7/dist-packages (from imbalanced-learn->imblearn==0.0) (1.21.6)\n",
            "Requirement already satisfied: scikit-learn>=0.24 in /usr/local/lib/python3.7/dist-packages (from imbalanced-learn->imblearn==0.0) (1.0.2)\n",
            "Requirement already satisfied: joblib>=0.11 in /usr/local/lib/python3.7/dist-packages (from imbalanced-learn->imblearn==0.0) (1.1.0)\n",
            "Requirement already satisfied: threadpoolctl>=2.0.0 in /usr/local/lib/python3.7/dist-packages (from scikit-learn>=0.24->imbalanced-learn->imblearn==0.0) (3.1.0)\n"
          ]
        }
      ],
      "source": [
        "!pip install imblearn==0.0"
      ]
    },
    {
      "cell_type": "code",
      "execution_count": 24,
      "metadata": {
        "id": "jX4RysHVTc8m"
      },
      "outputs": [],
      "source": [
        "# import required packages for splitting data\n",
        "from sklearn import model_selection\n",
        "from sklearn import linear_model\n",
        "from sklearn import ensemble\n",
        "from sklearn.model_selection import cross_val_score\n",
        "from sklearn.model_selection import train_test_split\n",
        "\n",
        "# import required packages for evaluating models\n",
        "from sklearn import metrics\n",
        "from sklearn.metrics import confusion_matrix\n",
        "from sklearn.metrics import classification_report\n",
        "from sklearn.metrics import roc_auc_score\n",
        "from sklearn.metrics import accuracy_score\n",
        "from sklearn.metrics import precision_recall_fscore_support\n",
        "\n",
        "# import `Decision Tree` model\n",
        "from sklearn.tree import DecisionTreeClassifier\n",
        "\n",
        "# balance the data\n",
        "from imblearn.over_sampling import SMOTE"
      ]
    },
    {
      "cell_type": "markdown",
      "source": [
        "### Metrics and Scores"
      ],
      "metadata": {
        "id": "p9FOYTt6cfh9"
      }
    },
    {
      "cell_type": "code",
      "source": [
        "X_train = features_train.iloc[:,:-1]\n",
        "y_train = features_train.iloc[:,-1]\n",
        "\n",
        "X_test = features_test.iloc[:,:-1]\n",
        "y_test = features_test.iloc[:,-1]"
      ],
      "metadata": {
        "id": "C9gl9000cnTJ"
      },
      "execution_count": 25,
      "outputs": []
    },
    {
      "cell_type": "code",
      "source": [
        "#Create a Decision Tree Classifier\n",
        "clf = DecisionTreeClassifier()\n",
        "\n",
        "#Train the model using the training sets\n",
        "clf.fit(X_train, y_train)\n",
        "\n",
        "#Predict the response for test dataset\n",
        "y_pred = clf.predict(X_test)"
      ],
      "metadata": {
        "id": "2iXAKEHfsKSe"
      },
      "execution_count": 26,
      "outputs": []
    },
    {
      "cell_type": "code",
      "source": [
        "print(classification_report(y_test, y_pred))"
      ],
      "metadata": {
        "colab": {
          "base_uri": "https://localhost:8080/"
        },
        "id": "yDOUZyCFdDEY",
        "outputId": "3ca46821-ac59-4653-cebb-36b16ac8359d"
      },
      "execution_count": 27,
      "outputs": [
        {
          "output_type": "stream",
          "name": "stdout",
          "text": [
            "              precision    recall  f1-score   support\n",
            "\n",
            "           0       0.91      0.89      0.90     10020\n",
            "           1       0.27      0.30      0.28      1307\n",
            "\n",
            "    accuracy                           0.82     11327\n",
            "   macro avg       0.59      0.60      0.59     11327\n",
            "weighted avg       0.83      0.82      0.83     11327\n",
            "\n"
          ]
        }
      ]
    },
    {
      "cell_type": "code",
      "source": [
        "cnf_matrix = metrics.confusion_matrix(y_test, y_pred)\n",
        "cnf_matrix"
      ],
      "metadata": {
        "colab": {
          "base_uri": "https://localhost:8080/"
        },
        "id": "enUUvQ3IdE2-",
        "outputId": "98f0754e-4608-483e-9791-62f5b5046c1f"
      },
      "execution_count": 28,
      "outputs": [
        {
          "output_type": "execute_result",
          "data": {
            "text/plain": [
              "array([[8953, 1067],\n",
              "       [ 916,  391]])"
            ]
          },
          "metadata": {},
          "execution_count": 28
        }
      ]
    },
    {
      "cell_type": "code",
      "source": [
        "import seaborn as sns\n",
        "import matplotlib.pyplot as plt\n",
        "class_names=[0,1] # name  of classes\n",
        "fig, ax = plt.subplots()\n",
        "tick_marks = np.arange(len(class_names))\n",
        "plt.xticks(tick_marks, class_names)\n",
        "plt.yticks(tick_marks, class_names)\n",
        "# create heatmap\n",
        "sns.heatmap(pd.DataFrame(cnf_matrix), annot=True, cmap=\"YlGnBu\" ,fmt='g')\n",
        "ax.xaxis.set_label_position(\"top\")\n",
        "plt.tight_layout()\n",
        "plt.title('Confusion matrix', y=1.1)\n",
        "plt.ylabel('Actual label')\n",
        "plt.xlabel('Predicted label')"
      ],
      "metadata": {
        "colab": {
          "base_uri": "https://localhost:8080/",
          "height": 342
        },
        "id": "5PfhuyVkdalN",
        "outputId": "b456a6b7-49de-481d-9712-d07f8b2502bc"
      },
      "execution_count": 29,
      "outputs": [
        {
          "output_type": "execute_result",
          "data": {
            "text/plain": [
              "Text(0.5, 257.44, 'Predicted label')"
            ]
          },
          "metadata": {},
          "execution_count": 29
        },
        {
          "output_type": "display_data",
          "data": {
            "text/plain": [
              "<Figure size 432x288 with 2 Axes>"
            ],
            "image/png": "[encoded data removed]"
          },
          "metadata": {
            "needs_background": "light"
          }
        }
      ]
    },
    {
      "cell_type": "code",
      "source": [
        "print(\"Accuracy:\",metrics.accuracy_score(y_test, y_pred))\n",
        "print(\"Precision:\",metrics.precision_score(y_test, y_pred))\n",
        "print(\"Recall:\",metrics.recall_score(y_test, y_pred))"
      ],
      "metadata": {
        "colab": {
          "base_uri": "https://localhost:8080/"
        },
        "id": "OokKna24dL6u",
        "outputId": "a4f1b7c8-9d1f-495e-d0f5-9123bdefd4e7"
      },
      "execution_count": 30,
      "outputs": [
        {
          "output_type": "stream",
          "name": "stdout",
          "text": [
            "Accuracy: 0.8249315794120243\n",
            "Precision: 0.2681755829903978\n",
            "Recall: 0.2991583779648049\n"
          ]
        }
      ]
    },
    {
      "cell_type": "code",
      "source": [
        "y_pred_proba = clf.predict_proba(X_test)[::,1]\n",
        "fpr, tpr, _ = metrics.roc_curve(y_test,  y_pred_proba)\n",
        "auc = metrics.roc_auc_score(y_test, y_pred_proba)\n",
        "plt.plot(fpr,tpr,label= 'AUC = %0.2f' % auc)\n",
        "plt.legend(loc=4)\n",
        "plt.title('Receiver Operating Characteristic (ROC)')\n",
        "plt.ylabel('True Positive Rate')\n",
        "plt.xlabel('False Positive Rate')\n",
        "plt.show()\n",
        "print('AUC Score:', auc)"
      ],
      "metadata": {
        "colab": {
          "base_uri": "https://localhost:8080/",
          "height": 312
        },
        "id": "WxLaKvFLdT9J",
        "outputId": "6b25b052-a8bc-4191-fde5-0a8a0aacc4d3"
      },
      "execution_count": 31,
      "outputs": [
        {
          "output_type": "display_data",
          "data": {
            "text/plain": [
              "<Figure size 432x288 with 1 Axes>"
            ],
            "image/png": "[encoded data removed]"
          },
          "metadata": {
            "needs_background": "light"
          }
        },
        {
          "output_type": "stream",
          "name": "stdout",
          "text": [
            "AUC Score: 0.5963356760083505\n"
          ]
        }
      ]
    },
    {
      "cell_type": "code",
      "source": [
        "feature_imp = pd.Series(clf.feature_importances_, index=list(X_train.columns)).sort_values(ascending=False)\n",
        "feature_imp"
      ],
      "metadata": {
        "id": "vlkNMa3QDqP2",
        "outputId": "b5aa3c0f-692b-4aff-fc1a-1a2f75277042",
        "colab": {
          "base_uri": "https://localhost:8080/"
        }
      },
      "execution_count": 32,
      "outputs": [
        {
          "output_type": "execute_result",
          "data": {
            "text/plain": [
              "total_assets        0.272386\n",
              "euribor3m           0.226701\n",
              "customer_length     0.203220\n",
              "rep_avg_rating      0.122272\n",
              "campaign            0.056350\n",
              "cons.conf.idx       0.038358\n",
              "emp.var.rate        0.030534\n",
              "poutcome_success    0.028802\n",
              "cons.price.idx      0.019765\n",
              "qtr_bin_Q1          0.001613\n",
              "dtype: float64"
            ]
          },
          "metadata": {},
          "execution_count": 32
        }
      ]
    },
    {
      "cell_type": "code",
      "source": [
        "%matplotlib inline\n",
        "plt.style.use('ggplot')\n",
        "\n",
        "# Creating a bar plot\n",
        "sns.barplot(x=feature_imp, y=feature_imp.index,color='r')\n",
        "\n",
        "# Add labels to your graph\n",
        "plt.xlabel('Feature Importance Score')\n",
        "plt.ylabel('Features')\n",
        "plt.title(\"Visualizing Important Features\")\n",
        "plt.show()"
      ],
      "metadata": {
        "id": "-Pv82ytnDqNH",
        "outputId": "e3fe8651-266e-4c57-ef62-d913bd3d828e",
        "colab": {
          "base_uri": "https://localhost:8080/",
          "height": 299
        }
      },
      "execution_count": 33,
      "outputs": [
        {
          "output_type": "display_data",
          "data": {
            "text/plain": [
              "<Figure size 432x288 with 1 Axes>"
            ],
            "image/png": "[encoded data removed]"
          },
          "metadata": {}
        }
      ]
    },
    {
      "cell_type": "markdown",
      "metadata": {
        "id": "iM0mTln5s4ra"
      },
      "source": [
        "### Evaluation Function"
      ]
    },
    {
      "cell_type": "code",
      "execution_count": null,
      "metadata": {
        "id": "-pgAPhpbUtBG"
      },
      "outputs": [],
      "source": [
        "clf = DecisionTreeClassifier()"
      ]
    },
    {
      "cell_type": "code",
      "execution_count": null,
      "metadata": {
        "id": "1b8sF8kMUtBG"
      },
      "outputs": [],
      "source": [
        "#function inputs X:features.Y: Target, classifer: sklearn classifier, K:folds in cross validation, scoring: evaluation metric(f1)\n",
        "def my_eval(X, y, classifer = clf, k=10, scoring = 'f1'):\n",
        "    scores = []\n",
        "    for i in range(5):\n",
        "        #### generate random numbers to shuffle the data for training and test\n",
        "        np.random.seed(2021)\n",
        "        random_int = np.random.randint(0,3000)\n",
        "        #### create cross validation folds\n",
        "        kfold = model_selection.KFold(n_splits=k, random_state=random_int, shuffle=True)\n",
        "        #### record the score \n",
        "        score = model_selection.cross_val_score(clf, X=X, y=y, cv=kfold, scoring=scoring)\n",
        "        scores.append(score)\n",
        "    scores = np.array(scores)\n",
        "    #### we need to calculate the bias (average score) and viariance (std)\n",
        "    bias, variance = round(scores.mean(),4), round(scores.std(),4)\n",
        "    return(bias, variance)"
      ]
    },
    {
      "cell_type": "markdown",
      "metadata": {
        "id": "g099JaKrUtBG"
      },
      "source": [
        "###Smote"
      ]
    },
    {
      "cell_type": "code",
      "execution_count": null,
      "metadata": {
        "id": "gpwjGHYUUtBH"
      },
      "outputs": [],
      "source": [
        "# Resampling and Balancing the data\n",
        "sm = SMOTE(random_state = 2021) \n",
        "X_res, Y_res = sm.fit_resample(X_train, y_train)"
      ]
    },
    {
      "cell_type": "markdown",
      "source": [
        "## Decision Tree"
      ],
      "metadata": {
        "id": "X9AEimFnsAYl"
      }
    },
    {
      "cell_type": "code",
      "source": [
        "#average f1_score from 10-fold CV \n",
        "clf = DecisionTreeClassifier()\n",
        "my_eval(X_res, Y_res, clf, 10)"
      ],
      "metadata": {
        "id": "XGaKca30sBKV",
        "colab": {
          "base_uri": "https://localhost:8080/"
        },
        "outputId": "05f57cd6-f8d7-47ea-e020-0640c75e598b"
      },
      "execution_count": null,
      "outputs": [
        {
          "output_type": "execute_result",
          "data": {
            "text/plain": [
              "(0.8986, 0.0035)"
            ]
          },
          "metadata": {},
          "execution_count": 20
        }
      ]
    },
    {
      "cell_type": "code",
      "source": [
        "#average ROC_AUC from 10-fold CV\n",
        "my_eval(X_res, Y_res, clf, 10, 'roc_auc')"
      ],
      "metadata": {
        "id": "cB65FSFWsAxC",
        "colab": {
          "base_uri": "https://localhost:8080/"
        },
        "outputId": "e084501d-d685-4fcb-8aa8-1ac55bdcc580"
      },
      "execution_count": null,
      "outputs": [
        {
          "output_type": "execute_result",
          "data": {
            "text/plain": [
              "(0.8978, 0.0032)"
            ]
          },
          "metadata": {},
          "execution_count": 21
        }
      ]
    }
  ]
}