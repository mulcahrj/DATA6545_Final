{
  "nbformat": 4,
  "nbformat_minor": 0,
  "metadata": {
    "colab": {
      "name": "Boot Strapping ",
      "provenance": [],
      "include_colab_link": true
    },
    "kernelspec": {
      "name": "python3",
      "display_name": "Python 3"
    },
    "language_info": {
      "name": "python"
    }
  },
  "cells": [
    {
      "cell_type": "markdown",
      "metadata": {
        "id": "view-in-github",
        "colab_type": "text"
      },
      "source": [
        "<a href=\"https://colab.research.google.com/github/mulcahrj/DATA6545_Final/blob/main/Boot_Strapping.ipynb\" target=\"_parent\"><img src=\"https://colab.research.google.com/assets/colab-badge.svg\" alt=\"Open In Colab\"/></a>"
      ]
    },
    {
      "cell_type": "markdown",
      "source": [
        ""
      ],
      "metadata": {
        "id": "3g6BMC-YKNAC"
      }
    },
    {
      "cell_type": "code",
      "source": [
        "import pandas as pd\n",
        "import numpy as np"
      ],
      "metadata": {
        "id": "seH6FHyVKtgb"
      },
      "execution_count": null,
      "outputs": []
    },
    {
      "cell_type": "code",
      "source": [
        "path = 'https://raw.githubusercontent.com/mulcahrj/DATA6545_Final/main/selected_features_train.csv'\n",
        "features_train = pd.read_csv(path)\n",
        "\n",
        "path = 'https://raw.githubusercontent.com/mulcahrj/DATA6545_Final/main/selected_features_test.csv'\n",
        "features_test = pd.read_csv(path)"
      ],
      "metadata": {
        "id": "jC4Vx7o2KjKe"
      },
      "execution_count": null,
      "outputs": []
    },
    {
      "cell_type": "code",
      "source": [
        "# import required packages for splitting data\n",
        "from sklearn import model_selection\n",
        "from sklearn import linear_model\n",
        "from sklearn import ensemble\n",
        "from sklearn.model_selection import cross_val_score\n",
        "from sklearn.model_selection import train_test_split\n",
        "\n",
        "# import required packages for evaluating models\n",
        "from sklearn import metrics\n",
        "from sklearn.metrics import confusion_matrix\n",
        "from sklearn.metrics import classification_report\n",
        "from sklearn.metrics import roc_auc_score\n",
        "from sklearn.metrics import accuracy_score\n",
        "from sklearn.metrics import precision_recall_fscore_support\n",
        "\n",
        "# import 'random forest' model\n",
        "from sklearn.ensemble import RandomForestClassifier\n",
        "\n",
        "# balance the data\n",
        "from imblearn.over_sampling import SMOTE"
      ],
      "metadata": {
        "id": "p5M1fG_kKkJn"
      },
      "execution_count": null,
      "outputs": []
    },
    {
      "cell_type": "code",
      "source": [
        "frames = [features_test, features_train]\n",
        "\n",
        "data = pd.concat(frames)"
      ],
      "metadata": {
        "id": "cUyLzYtJKkA_"
      },
      "execution_count": null,
      "outputs": []
    },
    {
      "cell_type": "code",
      "source": [
        "# define the feature list to select from\n",
        "feature_lst = data.columns.to_numpy()\n",
        "#type(feature_lst)\n",
        "feature_lst=np.delete(feature_lst, -1)\n",
        "feature_lst"
      ],
      "metadata": {
        "colab": {
          "base_uri": "https://localhost:8080/"
        },
        "id": "pHhCamlRLncj",
        "outputId": "29fe0abd-bd8b-437c-9882-6d81656efd83"
      },
      "execution_count": null,
      "outputs": [
        {
          "output_type": "execute_result",
          "data": {
            "text/plain": [
              "array(['poutcome_success', 'emp.var.rate', 'euribor3m', 'cons.price.idx',\n",
              "       'cons.conf.idx', 'campaign', 'total_assets', 'rep_avg_rating',\n",
              "       'customer_length', 'qtr_bin_Q1'], dtype=object)"
            ]
          },
          "metadata": {},
          "execution_count": 10
        }
      ]
    },
    {
      "cell_type": "code",
      "execution_count": null,
      "metadata": {
        "colab": {
          "base_uri": "https://localhost:8080/"
        },
        "id": "mIYh3DgVJkYA",
        "outputId": "0495a309-9eef-4bb9-a16f-9ab40548f3d2"
      },
      "outputs": [
        {
          "output_type": "stream",
          "name": "stdout",
          "text": [
            "Current selected features ['poutcome_success']\n",
            "\n",
            "\n",
            "average f1 score (bias) 0.29020671697273837\n",
            "average f1 score (variance) 0.01271331944109659\n",
            "average AUC score (bias) 0.5870793566482583\n",
            "average AUC score (variance) 0.004993110169671048\n",
            "\n",
            "\n",
            "Current selected features ['poutcome_success', 'total_assets']\n",
            "\n",
            "\n",
            "average f1 score (bias) 0.28519220809713136\n",
            "average f1 score (variance) 0.012314145770748776\n",
            "average AUC score (bias) 0.5954499068904577\n",
            "average AUC score (variance) 0.007752953669995356\n",
            "\n",
            "\n",
            "Current selected features ['poutcome_success', 'total_assets', 'euribor3m']\n",
            "\n",
            "\n",
            "average f1 score (bias) 0.2876861993714793\n",
            "average f1 score (variance) 0.026282387359688124\n",
            "average AUC score (bias) 0.7681221667878099\n",
            "average AUC score (variance) 0.00914792968574565\n",
            "\n",
            "\n",
            "Current selected features ['poutcome_success', 'total_assets', 'euribor3m', 'cons.conf.idx']\n",
            "\n",
            "\n",
            "average f1 score (bias) 0.2979165229576991\n",
            "average f1 score (variance) 0.026629967473720893\n",
            "average AUC score (bias) 0.7922479371486666\n",
            "average AUC score (variance) 0.008637223389002942\n",
            "\n",
            "\n",
            "Current selected features ['poutcome_success', 'total_assets', 'euribor3m', 'cons.conf.idx', 'emp.var.rate']\n",
            "\n",
            "\n",
            "average f1 score (bias) 0.2966004932439351\n",
            "average f1 score (variance) 0.024757604663148\n",
            "average AUC score (bias) 0.7933034080084249\n",
            "average AUC score (variance) 0.009560112481214392\n",
            "\n",
            "\n",
            "Current selected features ['poutcome_success', 'total_assets', 'euribor3m', 'cons.conf.idx', 'emp.var.rate', 'cons.price.idx']\n",
            "\n",
            "\n",
            "average f1 score (bias) 0.29629035120830427\n",
            "average f1 score (variance) 0.026747793801143515\n",
            "average AUC score (bias) 0.792645177814685\n",
            "average AUC score (variance) 0.010734424134233181\n",
            "\n",
            "\n",
            "Current selected features ['poutcome_success', 'total_assets', 'euribor3m', 'cons.conf.idx', 'emp.var.rate', 'cons.price.idx', 'rep_avg_rating']\n",
            "\n",
            "\n",
            "average f1 score (bias) 0.29132573525451544\n",
            "average f1 score (variance) 0.030271405898786647\n",
            "average AUC score (bias) 0.7912625533646307\n",
            "average AUC score (variance) 0.010418962850678165\n",
            "\n",
            "\n",
            "Current selected features ['poutcome_success', 'total_assets', 'euribor3m', 'cons.conf.idx', 'emp.var.rate', 'cons.price.idx', 'rep_avg_rating', 'customer_length']\n",
            "\n",
            "\n",
            "average f1 score (bias) 0.2879238709817144\n",
            "average f1 score (variance) 0.02612202053484467\n",
            "average AUC score (bias) 0.7902374836018125\n",
            "average AUC score (variance) 0.0104207460322162\n",
            "\n",
            "\n",
            "Current selected features ['poutcome_success', 'total_assets', 'euribor3m', 'cons.conf.idx', 'emp.var.rate', 'cons.price.idx', 'rep_avg_rating', 'customer_length', 'qtr_bin_Q1']\n",
            "\n",
            "\n",
            "average f1 score (bias) 0.2986920216371792\n",
            "average f1 score (variance) 0.026717036561520847\n",
            "average AUC score (bias) 0.79184649551941\n",
            "average AUC score (variance) 0.009784259687748355\n",
            "\n",
            "\n",
            "Current selected features ['poutcome_success', 'total_assets', 'euribor3m', 'cons.conf.idx', 'emp.var.rate', 'cons.price.idx', 'rep_avg_rating', 'customer_length', 'qtr_bin_Q1', 'campaign']\n",
            "\n",
            "\n",
            "average f1 score (bias) 0.2916984826913934\n",
            "average f1 score (variance) 0.027208819348954017\n",
            "average AUC score (bias) 0.7938501483587833\n",
            "average AUC score (variance) 0.0102863929423188\n",
            "\n",
            "\n"
          ]
        }
      ],
      "source": [
        "import numpy as np\n",
        "np.random.shuffle(feature_lst)\n",
        "\n",
        "\n",
        "from sklearn.model_selection import cross_val_score, KFold\n",
        "\n",
        "selected_features = []\n",
        "lr = RandomForestClassifier(criterion= 'entropy', max_depth= 8, max_features= 'auto', n_estimators= 200)\n",
        "\n",
        "for feat in feature_lst:\n",
        "  selected_features.append(feat)\n",
        "  X = data[selected_features]\n",
        "  y = data['y'].to_numpy()\n",
        "  lr.fit(X,y)\n",
        "  kfold = KFold(n_splits=5)\n",
        "  f1_scores = cross_val_score(lr, X, y, cv=kfold, scoring='f1')\n",
        "  roc_scores = cross_val_score(lr, X, y, cv=kfold, scoring='roc_auc')\n",
        "  print('Current selected features', selected_features)\n",
        "  print('\\n')\n",
        "  print('average f1 score (bias)', f1_scores.mean())\n",
        "  print('average f1 score (variance)', f1_scores.std())\n",
        "  print('average AUC score (bias)', roc_scores.mean())\n",
        "  print('average AUC score (variance)', roc_scores.std())\n",
        "  print('\\n')\n"
      ]
    }
  ]
}