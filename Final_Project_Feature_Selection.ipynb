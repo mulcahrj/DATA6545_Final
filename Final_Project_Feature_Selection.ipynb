{
  "nbformat": 4,
  "nbformat_minor": 0,
  "metadata": {
    "colab": {
      "name": "Final_Project_Feature_Selection.ipynb",
      "provenance": [],
      "toc_visible": true,
      "include_colab_link": true
    },
    "kernelspec": {
      "name": "python3",
      "display_name": "Python 3"
    },
    "language_info": {
      "name": "python"
    }
  },
  "cells": [
    {
      "cell_type": "markdown",
      "metadata": {
        "id": "view-in-github",
        "colab_type": "text"
      },
      "source": [
        "<a href=\"https://colab.research.google.com/github/mulcahrj/DATA6545_Final/blob/main/Final_Project_Feature_Selection.ipynb\" target=\"_parent\"><img src=\"https://colab.research.google.com/assets/colab-badge.svg\" alt=\"Open In Colab\"/></a>"
      ]
    },
    {
      "cell_type": "code",
      "source": [
        "import pandas as pd\n",
        "import numpy as np"
      ],
      "metadata": {
        "id": "horN3ZN5CCnS"
      },
      "execution_count": 9,
      "outputs": []
    },
    {
      "cell_type": "code",
      "source": [
        "# Read Excel file and set up in\n",
        "path = 'https://raw.githubusercontent.com/mulcahrj/DATA6545_Final/main/train_complete.csv'\n",
        "train_complete = pd.read_csv(path,index_col=0)"
      ],
      "metadata": {
        "id": "bsB0yk6YCDjg"
      },
      "execution_count": 2,
      "outputs": []
    },
    {
      "cell_type": "markdown",
      "source": [
        ""
      ],
      "metadata": {
        "id": "UPcpAWNKCDWn"
      }
    },
    {
      "cell_type": "code",
      "execution_count": 3,
      "metadata": {
        "id": "kb9jBLDtTc8g"
      },
      "outputs": [],
      "source": [
        "# Import the necessary libraries first\n",
        "#### Correlation method - for classification chi2 only\n",
        "from sklearn.feature_selection import SelectKBest\n",
        "from sklearn.feature_selection import chi2\n",
        "#### RFE method - replace the model with the model you plan to use\n",
        "from sklearn.feature_selection import RFE\n",
        "# from sklearn.linear_model import LogisticRegression\n",
        "#### feature importance method\n",
        "#### this method can be used for both topK and cut-off\n",
        "from sklearn.linear_model import Ridge\n",
        "#### specifically tree-based feature importance method\n",
        "from sklearn.ensemble import RandomForestClassifier, ExtraTreesClassifier\n",
        "#### for voting\n",
        "from collections import Counter"
      ]
    },
    {
      "cell_type": "markdown",
      "metadata": {
        "id": "jAENjIwrTc8h"
      },
      "source": [
        "## Select Features"
      ]
    },
    {
      "cell_type": "code",
      "execution_count": 4,
      "metadata": {
        "id": "VFfFIOqJTc8j"
      },
      "outputs": [],
      "source": [
        "\n",
        "X = train_complete.iloc[:,:-1].values\n",
        "y = train_complete.iloc[:,-1].values"
      ]
    },
    {
      "cell_type": "code",
      "source": [
        "names = list(train_complete.iloc[:,:-1])\n",
        "names"
      ],
      "metadata": {
        "id": "7CxHG_B87FYk",
        "colab": {
          "base_uri": "https://localhost:8080/"
        },
        "outputId": "55b7a6dc-63ad-47e4-b05d-3598498ff435"
      },
      "execution_count": 5,
      "outputs": [
        {
          "output_type": "execute_result",
          "data": {
            "text/plain": [
              "['emp.var.rate',\n",
              " 'cons.price.idx',\n",
              " 'cons.conf.idx',\n",
              " 'euribor3m',\n",
              " 'total_assets',\n",
              " 'rep_avg_rating',\n",
              " 'customer_length',\n",
              " 'customer_ratings',\n",
              " 'cust_exp_ind',\n",
              " 'marital_divorced',\n",
              " 'marital_married',\n",
              " 'marital_single',\n",
              " 'marital_unknown',\n",
              " 'housing_no',\n",
              " 'housing_unknown',\n",
              " 'housing_yes',\n",
              " 'loan_no',\n",
              " 'loan_unknown',\n",
              " 'loan_yes',\n",
              " 'contact_cellular',\n",
              " 'contact_telephone',\n",
              " 'day_of_week_fri',\n",
              " 'day_of_week_mon',\n",
              " 'day_of_week_thu',\n",
              " 'day_of_week_tue',\n",
              " 'day_of_week_wed',\n",
              " 'poutcome_failure',\n",
              " 'poutcome_nonexistent',\n",
              " 'poutcome_success',\n",
              " 'customer_language_English',\n",
              " 'customer_language_Other',\n",
              " 'customer_language_Portuguese',\n",
              " 'customer_language_Spanish',\n",
              " 'other_banks_no',\n",
              " 'other_banks_unknown',\n",
              " 'other_banks_yes',\n",
              " 'education_bin_high-school',\n",
              " 'education_bin_illiterate',\n",
              " 'education_bin_post high-school',\n",
              " 'education_bin_pre high-school',\n",
              " 'education_bin_unknown',\n",
              " 'qtr_bin_Q1',\n",
              " 'qtr_bin_Q2',\n",
              " 'qtr_bin_Q3',\n",
              " 'qtr_bin_Q4',\n",
              " 'job_bin_blue-collar',\n",
              " 'job_bin_other',\n",
              " 'job_bin_services',\n",
              " 'job_bin_unknown',\n",
              " 'job_bin_white-collar',\n",
              " 'age_bin_25 or younger',\n",
              " 'age_bin_26 to 35',\n",
              " 'age_bin_36 to 45',\n",
              " 'age_bin_46 to 55',\n",
              " 'age_bin_56+']"
            ]
          },
          "metadata": {},
          "execution_count": 5
        }
      ]
    },
    {
      "cell_type": "code",
      "execution_count": 6,
      "metadata": {
        "id": "-3cua6K3Tc8l"
      },
      "outputs": [],
      "source": [
        "def feature_selector(X, y, model, names, _method=\"topk\", n=int(X.shape[1]/2), fit_X=False, thres = 0.1):\n",
        "  \"\"\"voting based feature selector\n",
        "  - _method: \"topk\" for top-K method (default), \"cutoff\" for cut-off based method\n",
        "  - n: number of features to be selected. only available for top-K method - default half of the total features\n",
        "  - thres: cut-off threshold (default 0.1), only availabel for cutoff method\n",
        "  - fit_X: fit_transform X or just return indices\n",
        "  TODO: include support for regression problems\n",
        "  \"\"\"\n",
        "  #### Placeholder for tests\n",
        "  # X.shape[0] == y.shape[0]\n",
        "  if names: # if given feature names\n",
        "    feature_names = np.array(names)\n",
        "  else: # otherwise use location\n",
        "    feature_names = np.array([\"X%s\" % x for x in range(len(X.shape[0]))])\n",
        "  if _method == 'topk':\n",
        "    #### np.argpartition gets the indices of the largest n element from the array in ascending order\n",
        "    #### [::-1] reverse the order\n",
        "    corr_features = list(np.argpartition(SelectKBest(score_func=chi2, k=n).fit(X,y).scores_, -n)[-n:][::-1])\n",
        "    #### binary masking on features, use np.where() to get the indices of selected\n",
        "    rfe_features = list(np.where(RFE(model, n_features_to_select=n, step=1).fit(X, y).support_)[0])\n",
        "    #### argsort get sorted indices by values, ::-1] reverse the asceding order\n",
        "    ridge_features = list(np.argsort(Ridge(alpha=1.0).fit(X, y).coef_)[-n:][::-1])\n",
        "    #### using ExtraTree\n",
        "    extratree_features = list(np.argsort(ExtraTreesClassifier().fit(X, y).feature_importances_)[-n:][::-1])\n",
        "    ### using Random Forest:\n",
        "    rf_features = list(np.argsort(RandomForestClassifier().fit(X, y).feature_importances_)[-n:][::-1])\n",
        "    print(\"Using the Top-K method: \")\n",
        "    print(\"Selected features by correlation: \", feature_names[corr_features])\n",
        "    print(\"Selected features by RFE: \", feature_names[rfe_features])\n",
        "    print(\"Selected features by Ridge coefficients: \", feature_names[ridge_features])\n",
        "    print(\"Selected features by Extra Tree feature importance: \", feature_names[extratree_features])\n",
        "    print(\"Selected features by Random Forest feature importance: \", feature_names[rf_features])\n",
        "\n",
        "  elif _method == 'cutoff':\n",
        "    corr_features, rfe_features = list(), list() #### N/A\n",
        "    ridge_features = list(np.where(Ridge(alpha=1.0).fit(X, y).coef_ > thres)[0])\n",
        "    extratree_features = list(np.where(ExtraTreesClassifier().fit(X, y).feature_importances_ > thres)[0])\n",
        "    rf_features = list(np.where(RandomForestClassifier().fit(X, y).feature_importances_ > thres)[0])\n",
        "    print(\"Using the Cutoff method: \")\n",
        "    # print(\"Selected features by correlation: \", feature_names[corr_features])\n",
        "    # print(\"Selected features by RFE: \", feature_names[rfe_features])\n",
        "    print(\"Selected features by Ridge coefficients: \", feature_names[ridge_features])\n",
        "    print(\"Selected features by Extra Tree feature importance: \", feature_names[extratree_features])\n",
        "    print(\"Selected features by Random Forest feature importance: \", feature_names[rf_features])\n",
        "  else:\n",
        "    return(\"Only Top-K and Cutoff methods are currently supported!\")\n",
        "\n",
        "  ######################################\n",
        "  #### combine results using voting ####\n",
        "  ######################################\n",
        "  counted = Counter(np.concatenate((corr_features, rfe_features, ridge_features, extratree_features, rf_features), axis=None)).most_common(n)\n",
        "\n",
        "  #### list of tuples (feature_index, votes)\n",
        "  counted.sort(key = lambda x: x[1], reverse=True)\n",
        "  final_select_series = pd.Series({feature_names[f]:c for f,c in counted}).sort_values(ascending=False)\n",
        "  selected_idx = sorted([f for f,c in counted])\n",
        "  assert len(selected_idx) == n\n",
        "  print(final_select_series)\n",
        "  if fit_X:\n",
        "    return(X[:,selected_idx])\n",
        "  else:\n",
        "    return(feature_names[selected_idx])"
      ]
    },
    {
      "cell_type": "code",
      "execution_count": 10,
      "metadata": {
        "colab": {
          "base_uri": "https://localhost:8080/"
        },
        "id": "uQhDp752Tc8l",
        "outputId": "9b7313e5-9fbe-49d9-b87d-29bcd0d26cc2"
      },
      "outputs": [
        {
          "output_type": "stream",
          "name": "stdout",
          "text": [
            "Using the Top-K method: \n",
            "Selected features by correlation:  ['emp.var.rate' 'euribor3m' 'contact_cellular' 'contact_telephone'\n",
            " 'poutcome_success' 'qtr_bin_Q1' 'age_bin_56+' 'poutcome_nonexistent'\n",
            " 'job_bin_other' 'age_bin_25 or younger']\n",
            "Selected features by RFE:  ['emp.var.rate' 'cons.price.idx' 'cons.conf.idx' 'euribor3m'\n",
            " 'total_assets' 'rep_avg_rating' 'customer_length' 'housing_yes'\n",
            " 'poutcome_success' 'customer_language_Portuguese']\n",
            "Selected features by Ridge coefficients:  ['cons.price.idx' 'poutcome_success' 'cons.conf.idx' 'qtr_bin_Q1'\n",
            " 'loan_unknown' 'education_bin_illiterate' 'housing_no' 'housing_yes'\n",
            " 'marital_unknown' 'contact_cellular']\n",
            "Selected features by Extra Tree feature importance:  ['euribor3m' 'total_assets' 'customer_length' 'rep_avg_rating'\n",
            " 'emp.var.rate' 'poutcome_success' 'cons.conf.idx' 'cons.price.idx'\n",
            " 'customer_ratings' 'housing_no']\n",
            "Selected features by Random Forest feature importance:  ['euribor3m' 'total_assets' 'customer_length' 'rep_avg_rating'\n",
            " 'cons.conf.idx' 'cons.price.idx' 'emp.var.rate' 'poutcome_success'\n",
            " 'customer_ratings' 'housing_yes']\n",
            "poutcome_success    5\n",
            "emp.var.rate        4\n",
            "euribor3m           4\n",
            "cons.price.idx      4\n",
            "cons.conf.idx       4\n",
            "total_assets        3\n",
            "rep_avg_rating      3\n",
            "customer_length     3\n",
            "housing_yes         3\n",
            "contact_cellular    2\n",
            "dtype: int64\n"
          ]
        },
        {
          "output_type": "execute_result",
          "data": {
            "text/plain": [
              "array(['emp.var.rate', 'cons.price.idx', 'cons.conf.idx', 'euribor3m',\n",
              "       'total_assets', 'rep_avg_rating', 'customer_length', 'housing_yes',\n",
              "       'contact_cellular', 'poutcome_success'], dtype='<U30')"
            ]
          },
          "metadata": {},
          "execution_count": 10
        }
      ],
      "source": [
        "selected_features = feature_selector(X, y, model=RandomForestClassifier(), n=10, names=names, fit_X=False)\n",
        "selected_features"
      ]
    },
    {
      "cell_type": "code",
      "execution_count": 14,
      "metadata": {
        "id": "DYsfLpXKTc8l",
        "colab": {
          "base_uri": "https://localhost:8080/"
        },
        "outputId": "cbdddd2b-c9d3-47da-e66d-18d33451c2d7"
      },
      "outputs": [
        {
          "output_type": "execute_result",
          "data": {
            "text/plain": [
              "['poutcome_success',\n",
              " 'emp.var.rate',\n",
              " 'euribor3m',\n",
              " 'cons.price.idx',\n",
              " 'cons.conf.idx',\n",
              " 'total_assets',\n",
              " 'rep_avg_rating',\n",
              " 'customer_length',\n",
              " 'housing_yes',\n",
              " 'contact_cellular',\n",
              " 'y']"
            ]
          },
          "metadata": {},
          "execution_count": 14
        }
      ],
      "source": [
        "selected_features = ['poutcome_success', 'emp.var.rate', 'euribor3m', 'cons.price.idx',\n",
        "       'cons.conf.idx', 'total_assets', 'rep_avg_rating', 'customer_length', 'housing_yes',\n",
        "       'contact_cellular', 'y']\n",
        "selected_features"
      ]
    },
    {
      "cell_type": "code",
      "source": [
        "selected_features = train_complete[selected_features]"
      ],
      "metadata": {
        "id": "ZVlS_teiIjfL"
      },
      "execution_count": 15,
      "outputs": []
    },
    {
      "cell_type": "code",
      "source": [
        "selected_features.head()"
      ],
      "metadata": {
        "id": "VI0Yc9oqIpyG",
        "outputId": "460a209e-7141-49bc-942e-0f9fb0ebb21b",
        "colab": {
          "base_uri": "https://localhost:8080/",
          "height": 237
        }
      },
      "execution_count": 16,
      "outputs": [
        {
          "output_type": "execute_result",
          "data": {
            "text/plain": [
              "          poutcome_success  emp.var.rate  euribor3m  cons.price.idx  \\\n",
              "campaign                                                              \n",
              "0.573524                 0      1.000000   0.967665        0.605052   \n",
              "0.744386                 0      0.148320   0.061928        0.534818   \n",
              "0.000000                 0      1.000000   0.968428        0.414483   \n",
              "0.000000                 0      0.849418   0.929140        0.637496   \n",
              "0.391017                 0      1.000000   0.967665        0.605052   \n",
              "\n",
              "          cons.conf.idx  total_assets  rep_avg_rating  customer_length  \\\n",
              "campaign                                                                 \n",
              "0.573524       0.408442      0.553302        0.740661         0.787138   \n",
              "0.744386       0.235723      0.817121        0.275429         0.357026   \n",
              "0.000000       0.692481      0.191640        0.959432         0.966685   \n",
              "0.000000       0.680736      0.399434        0.285757         0.369019   \n",
              "0.391017       0.408442      0.291517        0.244337         0.325443   \n",
              "\n",
              "          housing_yes  contact_cellular  y  \n",
              "campaign                                    \n",
              "0.573524            1                 1  0  \n",
              "0.744386            1                 0  0  \n",
              "0.000000            1                 1  0  \n",
              "0.000000            1                 0  0  \n",
              "0.391017            0                 1  0  "
            ],
            "text/html": [
              "\n",
              "  <div id=\"df-ce21e83c-248b-46ba-8a48-d1f8722e03ab\">\n",
              "    <div class=\"colab-df-container\">\n",
              "      <div>\n",
              "<style scoped>\n",
              "    .dataframe tbody tr th:only-of-type {\n",
              "        vertical-align: middle;\n",
              "    }\n",
              "\n",
              "    .dataframe tbody tr th {\n",
              "        vertical-align: top;\n",
              "    }\n",
              "\n",
              "    .dataframe thead th {\n",
              "        text-align: right;\n",
              "    }\n",
              "</style>\n",
              "<table border=\"1\" class=\"dataframe\">\n",
              "  <thead>\n",
              "    <tr style=\"text-align: right;\">\n",
              "      <th></th>\n",
              "      <th>poutcome_success</th>\n",
              "      <th>emp.var.rate</th>\n",
              "      <th>euribor3m</th>\n",
              "      <th>cons.price.idx</th>\n",
              "      <th>cons.conf.idx</th>\n",
              "      <th>total_assets</th>\n",
              "      <th>rep_avg_rating</th>\n",
              "      <th>customer_length</th>\n",
              "      <th>housing_yes</th>\n",
              "      <th>contact_cellular</th>\n",
              "      <th>y</th>\n",
              "    </tr>\n",
              "    <tr>\n",
              "      <th>campaign</th>\n",
              "      <th></th>\n",
              "      <th></th>\n",
              "      <th></th>\n",
              "      <th></th>\n",
              "      <th></th>\n",
              "      <th></th>\n",
              "      <th></th>\n",
              "      <th></th>\n",
              "      <th></th>\n",
              "      <th></th>\n",
              "      <th></th>\n",
              "    </tr>\n",
              "  </thead>\n",
              "  <tbody>\n",
              "    <tr>\n",
              "      <th>0.573524</th>\n",
              "      <td>0</td>\n",
              "      <td>1.000000</td>\n",
              "      <td>0.967665</td>\n",
              "      <td>0.605052</td>\n",
              "      <td>0.408442</td>\n",
              "      <td>0.553302</td>\n",
              "      <td>0.740661</td>\n",
              "      <td>0.787138</td>\n",
              "      <td>1</td>\n",
              "      <td>1</td>\n",
              "      <td>0</td>\n",
              "    </tr>\n",
              "    <tr>\n",
              "      <th>0.744386</th>\n",
              "      <td>0</td>\n",
              "      <td>0.148320</td>\n",
              "      <td>0.061928</td>\n",
              "      <td>0.534818</td>\n",
              "      <td>0.235723</td>\n",
              "      <td>0.817121</td>\n",
              "      <td>0.275429</td>\n",
              "      <td>0.357026</td>\n",
              "      <td>1</td>\n",
              "      <td>0</td>\n",
              "      <td>0</td>\n",
              "    </tr>\n",
              "    <tr>\n",
              "      <th>0.000000</th>\n",
              "      <td>0</td>\n",
              "      <td>1.000000</td>\n",
              "      <td>0.968428</td>\n",
              "      <td>0.414483</td>\n",
              "      <td>0.692481</td>\n",
              "      <td>0.191640</td>\n",
              "      <td>0.959432</td>\n",
              "      <td>0.966685</td>\n",
              "      <td>1</td>\n",
              "      <td>1</td>\n",
              "      <td>0</td>\n",
              "    </tr>\n",
              "    <tr>\n",
              "      <th>0.000000</th>\n",
              "      <td>0</td>\n",
              "      <td>0.849418</td>\n",
              "      <td>0.929140</td>\n",
              "      <td>0.637496</td>\n",
              "      <td>0.680736</td>\n",
              "      <td>0.399434</td>\n",
              "      <td>0.285757</td>\n",
              "      <td>0.369019</td>\n",
              "      <td>1</td>\n",
              "      <td>0</td>\n",
              "      <td>0</td>\n",
              "    </tr>\n",
              "    <tr>\n",
              "      <th>0.391017</th>\n",
              "      <td>0</td>\n",
              "      <td>1.000000</td>\n",
              "      <td>0.967665</td>\n",
              "      <td>0.605052</td>\n",
              "      <td>0.408442</td>\n",
              "      <td>0.291517</td>\n",
              "      <td>0.244337</td>\n",
              "      <td>0.325443</td>\n",
              "      <td>0</td>\n",
              "      <td>1</td>\n",
              "      <td>0</td>\n",
              "    </tr>\n",
              "  </tbody>\n",
              "</table>\n",
              "</div>\n",
              "      <button class=\"colab-df-convert\" onclick=\"convertToInteractive('df-ce21e83c-248b-46ba-8a48-d1f8722e03ab')\"\n",
              "              title=\"Convert this dataframe to an interactive table.\"\n",
              "              style=\"display:none;\">\n",
              "        \n",
              "  <svg xmlns=\"http://www.w3.org/2000/svg\" height=\"24px\"viewBox=\"0 0 24 24\"\n",
              "       width=\"24px\">\n",
              "    <path d=\"M0 0h24v24H0V0z\" fill=\"none\"/>\n",
              "    <path d=\"M18.56 5.44l.94 2.06.94-2.06 2.06-.94-2.06-.94-.94-2.06-.94 2.06-2.06.94zm-11 1L8.5 8.5l.94-2.06 2.06-.94-2.06-.94L8.5 2.5l-.94 2.06-2.06.94zm10 10l.94 2.06.94-2.06 2.06-.94-2.06-.94-.94-2.06-.94 2.06-2.06.94z\"/><path d=\"M17.41 7.96l-1.37-1.37c-.4-.4-.92-.59-1.43-.59-.52 0-1.04.2-1.43.59L10.3 9.45l-7.72 7.72c-.78.78-.78 2.05 0 2.83L4 21.41c.39.39.9.59 1.41.59.51 0 1.02-.2 1.41-.59l7.78-7.78 2.81-2.81c.8-.78.8-2.07 0-2.86zM5.41 20L4 18.59l7.72-7.72 1.47 1.35L5.41 20z\"/>\n",
              "  </svg>\n",
              "      </button>\n",
              "      \n",
              "  <style>\n",
              "    .colab-df-container {\n",
              "      display:flex;\n",
              "      flex-wrap:wrap;\n",
              "      gap: 12px;\n",
              "    }\n",
              "\n",
              "    .colab-df-convert {\n",
              "      background-color: #E8F0FE;\n",
              "      border: none;\n",
              "      border-radius: 50%;\n",
              "      cursor: pointer;\n",
              "      display: none;\n",
              "      fill: #1967D2;\n",
              "      height: 32px;\n",
              "      padding: 0 0 0 0;\n",
              "      width: 32px;\n",
              "    }\n",
              "\n",
              "    .colab-df-convert:hover {\n",
              "      background-color: #E2EBFA;\n",
              "      box-shadow: 0px 1px 2px rgba(60, 64, 67, 0.3), 0px 1px 3px 1px rgba(60, 64, 67, 0.15);\n",
              "      fill: #174EA6;\n",
              "    }\n",
              "\n",
              "    [theme=dark] .colab-df-convert {\n",
              "      background-color: #3B4455;\n",
              "      fill: #D2E3FC;\n",
              "    }\n",
              "\n",
              "    [theme=dark] .colab-df-convert:hover {\n",
              "      background-color: #434B5C;\n",
              "      box-shadow: 0px 1px 3px 1px rgba(0, 0, 0, 0.15);\n",
              "      filter: drop-shadow(0px 1px 2px rgba(0, 0, 0, 0.3));\n",
              "      fill: #FFFFFF;\n",
              "    }\n",
              "  </style>\n",
              "\n",
              "      <script>\n",
              "        const buttonEl =\n",
              "          document.querySelector('#df-ce21e83c-248b-46ba-8a48-d1f8722e03ab button.colab-df-convert');\n",
              "        buttonEl.style.display =\n",
              "          google.colab.kernel.accessAllowed ? 'block' : 'none';\n",
              "\n",
              "        async function convertToInteractive(key) {\n",
              "          const element = document.querySelector('#df-ce21e83c-248b-46ba-8a48-d1f8722e03ab');\n",
              "          const dataTable =\n",
              "            await google.colab.kernel.invokeFunction('convertToInteractive',\n",
              "                                                     [key], {});\n",
              "          if (!dataTable) return;\n",
              "\n",
              "          const docLinkHtml = 'Like what you see? Visit the ' +\n",
              "            '<a target=\"_blank\" href=https://colab.research.google.com/notebooks/data_table.ipynb>data table notebook</a>'\n",
              "            + ' to learn more about interactive tables.';\n",
              "          element.innerHTML = '';\n",
              "          dataTable['output_type'] = 'display_data';\n",
              "          await google.colab.output.renderOutput(dataTable, element);\n",
              "          const docLink = document.createElement('div');\n",
              "          docLink.innerHTML = docLinkHtml;\n",
              "          element.appendChild(docLink);\n",
              "        }\n",
              "      </script>\n",
              "    </div>\n",
              "  </div>\n",
              "  "
            ]
          },
          "metadata": {},
          "execution_count": 16
        }
      ]
    },
    {
      "cell_type": "code",
      "source": [
        "from google.colab import drive\n",
        "drive.mount('/content/drive')"
      ],
      "metadata": {
        "id": "BDsSeUrPI2W2",
        "outputId": "5031dda4-84e9-417a-a53a-aeb0af229d16",
        "colab": {
          "base_uri": "https://localhost:8080/",
          "height": 328
        }
      },
      "execution_count": 18,
      "outputs": [
        {
          "output_type": "error",
          "ename": "MessageError",
          "evalue": "ignored",
          "traceback": [
            "\u001b[0;31m---------------------------------------------------------------------------\u001b[0m",
            "\u001b[0;31mMessageError\u001b[0m                              Traceback (most recent call last)",
            "\u001b[0;32m<ipython-input-18-d5df0069828e>\u001b[0m in \u001b[0;36m<module>\u001b[0;34m()\u001b[0m\n\u001b[1;32m      1\u001b[0m \u001b[0;32mfrom\u001b[0m \u001b[0mgoogle\u001b[0m\u001b[0;34m.\u001b[0m\u001b[0mcolab\u001b[0m \u001b[0;32mimport\u001b[0m \u001b[0mdrive\u001b[0m\u001b[0;34m\u001b[0m\u001b[0;34m\u001b[0m\u001b[0m\n\u001b[0;32m----> 2\u001b[0;31m \u001b[0mdrive\u001b[0m\u001b[0;34m.\u001b[0m\u001b[0mmount\u001b[0m\u001b[0;34m(\u001b[0m\u001b[0;34m'/content/drive'\u001b[0m\u001b[0;34m)\u001b[0m\u001b[0;34m\u001b[0m\u001b[0;34m\u001b[0m\u001b[0m\n\u001b[0m",
            "\u001b[0;32m/usr/local/lib/python3.7/dist-packages/google/colab/drive.py\u001b[0m in \u001b[0;36mmount\u001b[0;34m(mountpoint, force_remount, timeout_ms)\u001b[0m\n\u001b[1;32m    107\u001b[0m       \u001b[0mforce_remount\u001b[0m\u001b[0;34m=\u001b[0m\u001b[0mforce_remount\u001b[0m\u001b[0;34m,\u001b[0m\u001b[0;34m\u001b[0m\u001b[0;34m\u001b[0m\u001b[0m\n\u001b[1;32m    108\u001b[0m       \u001b[0mtimeout_ms\u001b[0m\u001b[0;34m=\u001b[0m\u001b[0mtimeout_ms\u001b[0m\u001b[0;34m,\u001b[0m\u001b[0;34m\u001b[0m\u001b[0;34m\u001b[0m\u001b[0m\n\u001b[0;32m--> 109\u001b[0;31m       ephemeral=True)\n\u001b[0m\u001b[1;32m    110\u001b[0m \u001b[0;34m\u001b[0m\u001b[0m\n\u001b[1;32m    111\u001b[0m \u001b[0;34m\u001b[0m\u001b[0m\n",
            "\u001b[0;32m/usr/local/lib/python3.7/dist-packages/google/colab/drive.py\u001b[0m in \u001b[0;36m_mount\u001b[0;34m(mountpoint, force_remount, timeout_ms, ephemeral)\u001b[0m\n\u001b[1;32m    122\u001b[0m   \u001b[0;32mif\u001b[0m \u001b[0mephemeral\u001b[0m\u001b[0;34m:\u001b[0m\u001b[0;34m\u001b[0m\u001b[0;34m\u001b[0m\u001b[0m\n\u001b[1;32m    123\u001b[0m     _message.blocking_request(\n\u001b[0;32m--> 124\u001b[0;31m         'request_auth', request={'authType': 'dfs_ephemeral'}, timeout_sec=None)\n\u001b[0m\u001b[1;32m    125\u001b[0m \u001b[0;34m\u001b[0m\u001b[0m\n\u001b[1;32m    126\u001b[0m   \u001b[0mmountpoint\u001b[0m \u001b[0;34m=\u001b[0m \u001b[0m_os\u001b[0m\u001b[0;34m.\u001b[0m\u001b[0mpath\u001b[0m\u001b[0;34m.\u001b[0m\u001b[0mexpanduser\u001b[0m\u001b[0;34m(\u001b[0m\u001b[0mmountpoint\u001b[0m\u001b[0;34m)\u001b[0m\u001b[0;34m\u001b[0m\u001b[0;34m\u001b[0m\u001b[0m\n",
            "\u001b[0;32m/usr/local/lib/python3.7/dist-packages/google/colab/_message.py\u001b[0m in \u001b[0;36mblocking_request\u001b[0;34m(request_type, request, timeout_sec, parent)\u001b[0m\n\u001b[1;32m    173\u001b[0m   request_id = send_request(\n\u001b[1;32m    174\u001b[0m       request_type, request, parent=parent, expect_reply=True)\n\u001b[0;32m--> 175\u001b[0;31m   \u001b[0;32mreturn\u001b[0m \u001b[0mread_reply_from_input\u001b[0m\u001b[0;34m(\u001b[0m\u001b[0mrequest_id\u001b[0m\u001b[0;34m,\u001b[0m \u001b[0mtimeout_sec\u001b[0m\u001b[0;34m)\u001b[0m\u001b[0;34m\u001b[0m\u001b[0;34m\u001b[0m\u001b[0m\n\u001b[0m",
            "\u001b[0;32m/usr/local/lib/python3.7/dist-packages/google/colab/_message.py\u001b[0m in \u001b[0;36mread_reply_from_input\u001b[0;34m(message_id, timeout_sec)\u001b[0m\n\u001b[1;32m    104\u001b[0m         reply.get('colab_msg_id') == message_id):\n\u001b[1;32m    105\u001b[0m       \u001b[0;32mif\u001b[0m \u001b[0;34m'error'\u001b[0m \u001b[0;32min\u001b[0m \u001b[0mreply\u001b[0m\u001b[0;34m:\u001b[0m\u001b[0;34m\u001b[0m\u001b[0;34m\u001b[0m\u001b[0m\n\u001b[0;32m--> 106\u001b[0;31m         \u001b[0;32mraise\u001b[0m \u001b[0mMessageError\u001b[0m\u001b[0;34m(\u001b[0m\u001b[0mreply\u001b[0m\u001b[0;34m[\u001b[0m\u001b[0;34m'error'\u001b[0m\u001b[0;34m]\u001b[0m\u001b[0;34m)\u001b[0m\u001b[0;34m\u001b[0m\u001b[0;34m\u001b[0m\u001b[0m\n\u001b[0m\u001b[1;32m    107\u001b[0m       \u001b[0;32mreturn\u001b[0m \u001b[0mreply\u001b[0m\u001b[0;34m.\u001b[0m\u001b[0mget\u001b[0m\u001b[0;34m(\u001b[0m\u001b[0;34m'data'\u001b[0m\u001b[0;34m,\u001b[0m \u001b[0;32mNone\u001b[0m\u001b[0;34m)\u001b[0m\u001b[0;34m\u001b[0m\u001b[0;34m\u001b[0m\u001b[0m\n\u001b[1;32m    108\u001b[0m \u001b[0;34m\u001b[0m\u001b[0m\n",
            "\u001b[0;31mMessageError\u001b[0m: Error: credential propagation was unsuccessful"
          ]
        }
      ]
    },
    {
      "cell_type": "code",
      "source": [
        "path = '/content/drive/MyDrive/Classroom/DATA 6545: Machine Learning for Predictive Analysis SP2022/Final Project/selected_features.csv'\n",
        "selected_features.to_csv(path,index=False)"
      ],
      "metadata": {
        "id": "nD0PDxilIQup",
        "outputId": "693e4751-3887-49c6-e50f-785433f72827",
        "colab": {
          "base_uri": "https://localhost:8080/",
          "height": 328
        }
      },
      "execution_count": 17,
      "outputs": [
        {
          "output_type": "error",
          "ename": "FileNotFoundError",
          "evalue": "ignored",
          "traceback": [
            "\u001b[0;31m---------------------------------------------------------------------------\u001b[0m",
            "\u001b[0;31mFileNotFoundError\u001b[0m                         Traceback (most recent call last)",
            "\u001b[0;32m<ipython-input-17-02031f0c1719>\u001b[0m in \u001b[0;36m<module>\u001b[0;34m()\u001b[0m\n\u001b[1;32m      1\u001b[0m \u001b[0mpath\u001b[0m \u001b[0;34m=\u001b[0m \u001b[0;34m'/content/drive/MyDrive/Classroom/DATA 6545: Machine Learning for Predictive Analysis SP2022/Final Project/selected_features.csv'\u001b[0m\u001b[0;34m\u001b[0m\u001b[0;34m\u001b[0m\u001b[0m\n\u001b[0;32m----> 2\u001b[0;31m \u001b[0mselected_features\u001b[0m\u001b[0;34m.\u001b[0m\u001b[0mto_csv\u001b[0m\u001b[0;34m(\u001b[0m\u001b[0mpath\u001b[0m\u001b[0;34m,\u001b[0m\u001b[0mindex\u001b[0m\u001b[0;34m=\u001b[0m\u001b[0;32mFalse\u001b[0m\u001b[0;34m)\u001b[0m\u001b[0;34m\u001b[0m\u001b[0;34m\u001b[0m\u001b[0m\n\u001b[0m",
            "\u001b[0;32m/usr/local/lib/python3.7/dist-packages/pandas/core/generic.py\u001b[0m in \u001b[0;36mto_csv\u001b[0;34m(self, path_or_buf, sep, na_rep, float_format, columns, header, index, index_label, mode, encoding, compression, quoting, quotechar, line_terminator, chunksize, date_format, doublequote, escapechar, decimal, errors, storage_options)\u001b[0m\n\u001b[1;32m   3480\u001b[0m             \u001b[0mdoublequote\u001b[0m\u001b[0;34m=\u001b[0m\u001b[0mdoublequote\u001b[0m\u001b[0;34m,\u001b[0m\u001b[0;34m\u001b[0m\u001b[0;34m\u001b[0m\u001b[0m\n\u001b[1;32m   3481\u001b[0m             \u001b[0mescapechar\u001b[0m\u001b[0;34m=\u001b[0m\u001b[0mescapechar\u001b[0m\u001b[0;34m,\u001b[0m\u001b[0;34m\u001b[0m\u001b[0;34m\u001b[0m\u001b[0m\n\u001b[0;32m-> 3482\u001b[0;31m             \u001b[0mstorage_options\u001b[0m\u001b[0;34m=\u001b[0m\u001b[0mstorage_options\u001b[0m\u001b[0;34m,\u001b[0m\u001b[0;34m\u001b[0m\u001b[0;34m\u001b[0m\u001b[0m\n\u001b[0m\u001b[1;32m   3483\u001b[0m         )\n\u001b[1;32m   3484\u001b[0m \u001b[0;34m\u001b[0m\u001b[0m\n",
            "\u001b[0;32m/usr/local/lib/python3.7/dist-packages/pandas/io/formats/format.py\u001b[0m in \u001b[0;36mto_csv\u001b[0;34m(self, path_or_buf, encoding, sep, columns, index_label, mode, compression, quoting, quotechar, line_terminator, chunksize, date_format, doublequote, escapechar, errors, storage_options)\u001b[0m\n\u001b[1;32m   1103\u001b[0m             \u001b[0mformatter\u001b[0m\u001b[0;34m=\u001b[0m\u001b[0mself\u001b[0m\u001b[0;34m.\u001b[0m\u001b[0mfmt\u001b[0m\u001b[0;34m,\u001b[0m\u001b[0;34m\u001b[0m\u001b[0;34m\u001b[0m\u001b[0m\n\u001b[1;32m   1104\u001b[0m         )\n\u001b[0;32m-> 1105\u001b[0;31m         \u001b[0mcsv_formatter\u001b[0m\u001b[0;34m.\u001b[0m\u001b[0msave\u001b[0m\u001b[0;34m(\u001b[0m\u001b[0;34m)\u001b[0m\u001b[0;34m\u001b[0m\u001b[0;34m\u001b[0m\u001b[0m\n\u001b[0m\u001b[1;32m   1106\u001b[0m \u001b[0;34m\u001b[0m\u001b[0m\n\u001b[1;32m   1107\u001b[0m         \u001b[0;32mif\u001b[0m \u001b[0mcreated_buffer\u001b[0m\u001b[0;34m:\u001b[0m\u001b[0;34m\u001b[0m\u001b[0;34m\u001b[0m\u001b[0m\n",
            "\u001b[0;32m/usr/local/lib/python3.7/dist-packages/pandas/io/formats/csvs.py\u001b[0m in \u001b[0;36msave\u001b[0;34m(self)\u001b[0m\n\u001b[1;32m    241\u001b[0m             \u001b[0merrors\u001b[0m\u001b[0;34m=\u001b[0m\u001b[0mself\u001b[0m\u001b[0;34m.\u001b[0m\u001b[0merrors\u001b[0m\u001b[0;34m,\u001b[0m\u001b[0;34m\u001b[0m\u001b[0;34m\u001b[0m\u001b[0m\n\u001b[1;32m    242\u001b[0m             \u001b[0mcompression\u001b[0m\u001b[0;34m=\u001b[0m\u001b[0mself\u001b[0m\u001b[0;34m.\u001b[0m\u001b[0mcompression\u001b[0m\u001b[0;34m,\u001b[0m\u001b[0;34m\u001b[0m\u001b[0;34m\u001b[0m\u001b[0m\n\u001b[0;32m--> 243\u001b[0;31m             \u001b[0mstorage_options\u001b[0m\u001b[0;34m=\u001b[0m\u001b[0mself\u001b[0m\u001b[0;34m.\u001b[0m\u001b[0mstorage_options\u001b[0m\u001b[0;34m,\u001b[0m\u001b[0;34m\u001b[0m\u001b[0;34m\u001b[0m\u001b[0m\n\u001b[0m\u001b[1;32m    244\u001b[0m         ) as handles:\n\u001b[1;32m    245\u001b[0m \u001b[0;34m\u001b[0m\u001b[0m\n",
            "\u001b[0;32m/usr/local/lib/python3.7/dist-packages/pandas/io/common.py\u001b[0m in \u001b[0;36mget_handle\u001b[0;34m(path_or_buf, mode, encoding, compression, memory_map, is_text, errors, storage_options)\u001b[0m\n\u001b[1;32m    705\u001b[0m                 \u001b[0mencoding\u001b[0m\u001b[0;34m=\u001b[0m\u001b[0mioargs\u001b[0m\u001b[0;34m.\u001b[0m\u001b[0mencoding\u001b[0m\u001b[0;34m,\u001b[0m\u001b[0;34m\u001b[0m\u001b[0;34m\u001b[0m\u001b[0m\n\u001b[1;32m    706\u001b[0m                 \u001b[0merrors\u001b[0m\u001b[0;34m=\u001b[0m\u001b[0merrors\u001b[0m\u001b[0;34m,\u001b[0m\u001b[0;34m\u001b[0m\u001b[0;34m\u001b[0m\u001b[0m\n\u001b[0;32m--> 707\u001b[0;31m                 \u001b[0mnewline\u001b[0m\u001b[0;34m=\u001b[0m\u001b[0;34m\"\"\u001b[0m\u001b[0;34m,\u001b[0m\u001b[0;34m\u001b[0m\u001b[0;34m\u001b[0m\u001b[0m\n\u001b[0m\u001b[1;32m    708\u001b[0m             )\n\u001b[1;32m    709\u001b[0m         \u001b[0;32melse\u001b[0m\u001b[0;34m:\u001b[0m\u001b[0;34m\u001b[0m\u001b[0;34m\u001b[0m\u001b[0m\n",
            "\u001b[0;31mFileNotFoundError\u001b[0m: [Errno 2] No such file or directory: '/content/drive/MyDrive/Classroom/DATA 6545: Machine Learning for Predictive Analysis SP2022/Final Project/selected_features.csv'"
          ]
        }
      ]
    }
  ]
}